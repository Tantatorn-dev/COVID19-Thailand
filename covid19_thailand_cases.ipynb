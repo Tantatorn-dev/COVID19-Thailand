{
  "nbformat": 4,
  "nbformat_minor": 0,
  "metadata": {
    "colab": {
      "name": "covid19_thailand_cases.ipynb",
      "provenance": [],
      "collapsed_sections": [],
      "authorship_tag": "ABX9TyOrpGjN0XxQIMI7uTAN0pgn",
      "include_colab_link": true
    },
    "kernelspec": {
      "name": "python3",
      "display_name": "Python 3"
    }
  },
  "cells": [
    {
      "cell_type": "markdown",
      "metadata": {
        "id": "view-in-github",
        "colab_type": "text"
      },
      "source": [
        "<a href=\"https://colab.research.google.com/github/Tantatorn-dev/COVID19-Thailand/blob/master/covid19_thailand_cases.ipynb\" target=\"_parent\"><img src=\"https://colab.research.google.com/assets/colab-badge.svg\" alt=\"Open In Colab\"/></a>"
      ]
    },
    {
      "cell_type": "markdown",
      "metadata": {
        "id": "AL-TSB5r3ihk",
        "colab_type": "text"
      },
      "source": [
        "# Data Source\n",
        "I retrieve data from Thailand [Department of Disease Control](https://https://covid19.th-stat.com/th/api)"
      ]
    },
    {
      "cell_type": "markdown",
      "metadata": {
        "id": "x-Id05Kz4CAW",
        "colab_type": "text"
      },
      "source": [
        "# Data Preperation\n",
        "Let's import data and extract the essence of it."
      ]
    },
    {
      "cell_type": "code",
      "metadata": {
        "id": "XMOGyd4d4qk4",
        "colab_type": "code",
        "colab": {}
      },
      "source": [
        "import json\n",
        "import requests\n",
        "\n",
        "url = \"https://covid19.th-stat.com/api/open/cases\"\n",
        "\n",
        "# get response from api\n",
        "res = requests.get(url)\n",
        "\n",
        "# parse json object\n",
        "json_data = res.json()\n",
        "json_data = json_data['Data']"
      ],
      "execution_count": 0,
      "outputs": []
    },
    {
      "cell_type": "code",
      "metadata": {
        "id": "GkeN8w885l8D",
        "colab_type": "code",
        "outputId": "d716d7f6-5e69-4d7c-926c-6560d204897a",
        "colab": {
          "base_uri": "https://localhost:8080/",
          "height": 206
        }
      },
      "source": [
        "# convert data to pandas dataframe\n",
        "import pandas as pd\n",
        "\n",
        "data = pd.DataFrame(json_data)\n",
        "data.head()"
      ],
      "execution_count": 4,
      "outputs": [
        {
          "output_type": "execute_result",
          "data": {
            "text/html": [
              "<div>\n",
              "<style scoped>\n",
              "    .dataframe tbody tr th:only-of-type {\n",
              "        vertical-align: middle;\n",
              "    }\n",
              "\n",
              "    .dataframe tbody tr th {\n",
              "        vertical-align: top;\n",
              "    }\n",
              "\n",
              "    .dataframe thead th {\n",
              "        text-align: right;\n",
              "    }\n",
              "</style>\n",
              "<table border=\"1\" class=\"dataframe\">\n",
              "  <thead>\n",
              "    <tr style=\"text-align: right;\">\n",
              "      <th></th>\n",
              "      <th>ConfirmDate</th>\n",
              "      <th>No</th>\n",
              "      <th>Age</th>\n",
              "      <th>Gender</th>\n",
              "      <th>GenderEn</th>\n",
              "      <th>Nation</th>\n",
              "      <th>NationEn</th>\n",
              "      <th>Province</th>\n",
              "      <th>ProvinceId</th>\n",
              "      <th>District</th>\n",
              "      <th>ProvinceEn</th>\n",
              "      <th>Detail</th>\n",
              "    </tr>\n",
              "  </thead>\n",
              "  <tbody>\n",
              "    <tr>\n",
              "      <th>0</th>\n",
              "      <td>2020-04-14 00:00:00</td>\n",
              "      <td>2613</td>\n",
              "      <td>50.0</td>\n",
              "      <td>หญิง</td>\n",
              "      <td>Female</td>\n",
              "      <td>ไทย</td>\n",
              "      <td>Thai</td>\n",
              "      <td>กรุงเทพมหานคร</td>\n",
              "      <td>1</td>\n",
              "      <td>ไม่ระบุ</td>\n",
              "      <td>Bangkok</td>\n",
              "      <td>None</td>\n",
              "    </tr>\n",
              "    <tr>\n",
              "      <th>1</th>\n",
              "      <td>2020-04-14 00:00:00</td>\n",
              "      <td>2612</td>\n",
              "      <td>48.0</td>\n",
              "      <td>ชาย</td>\n",
              "      <td>Male</td>\n",
              "      <td>ไทย</td>\n",
              "      <td>Thai</td>\n",
              "      <td>กรุงเทพมหานคร</td>\n",
              "      <td>1</td>\n",
              "      <td>บางกะปิ</td>\n",
              "      <td>Bangkok</td>\n",
              "      <td>None</td>\n",
              "    </tr>\n",
              "    <tr>\n",
              "      <th>2</th>\n",
              "      <td>2020-04-14 00:00:00</td>\n",
              "      <td>2611</td>\n",
              "      <td>39.0</td>\n",
              "      <td>หญิง</td>\n",
              "      <td>Female</td>\n",
              "      <td>ไทย</td>\n",
              "      <td>Thai</td>\n",
              "      <td>กรุงเทพมหานคร</td>\n",
              "      <td>1</td>\n",
              "      <td></td>\n",
              "      <td>Bangkok</td>\n",
              "      <td>None</td>\n",
              "    </tr>\n",
              "    <tr>\n",
              "      <th>3</th>\n",
              "      <td>2020-04-14 00:00:00</td>\n",
              "      <td>2610</td>\n",
              "      <td>11.0</td>\n",
              "      <td>หญิง</td>\n",
              "      <td>Female</td>\n",
              "      <td>ไทย</td>\n",
              "      <td>Thai</td>\n",
              "      <td>กรุงเทพมหานคร</td>\n",
              "      <td>1</td>\n",
              "      <td></td>\n",
              "      <td>Bangkok</td>\n",
              "      <td>None</td>\n",
              "    </tr>\n",
              "    <tr>\n",
              "      <th>4</th>\n",
              "      <td>2020-04-14 00:00:00</td>\n",
              "      <td>2609</td>\n",
              "      <td>60.0</td>\n",
              "      <td>ชาย</td>\n",
              "      <td>Male</td>\n",
              "      <td>ไทย</td>\n",
              "      <td>Thai</td>\n",
              "      <td>ปัตตานี</td>\n",
              "      <td>32</td>\n",
              "      <td>ทุ่งยางแดง</td>\n",
              "      <td>Pattani</td>\n",
              "      <td>None</td>\n",
              "    </tr>\n",
              "  </tbody>\n",
              "</table>\n",
              "</div>"
            ],
            "text/plain": [
              "           ConfirmDate    No   Age  ...    District ProvinceEn Detail\n",
              "0  2020-04-14 00:00:00  2613  50.0  ...     ไม่ระบุ    Bangkok   None\n",
              "1  2020-04-14 00:00:00  2612  48.0  ...     บางกะปิ    Bangkok   None\n",
              "2  2020-04-14 00:00:00  2611  39.0  ...                Bangkok   None\n",
              "3  2020-04-14 00:00:00  2610  11.0  ...                Bangkok   None\n",
              "4  2020-04-14 00:00:00  2609  60.0  ...  ทุ่งยางแดง    Pattani   None\n",
              "\n",
              "[5 rows x 12 columns]"
            ]
          },
          "metadata": {
            "tags": []
          },
          "execution_count": 4
        }
      ]
    },
    {
      "cell_type": "markdown",
      "metadata": {
        "id": "ITvqMNtK6OH6",
        "colab_type": "text"
      },
      "source": [
        "We'll see some column is useless. Let's drop it."
      ]
    },
    {
      "cell_type": "code",
      "metadata": {
        "id": "T-oameg86dZ8",
        "colab_type": "code",
        "colab": {
          "base_uri": "https://localhost:8080/",
          "height": 206
        },
        "outputId": "6d8af79f-379c-4bb4-a6a2-cfefaedecc49"
      },
      "source": [
        "data = data.drop(columns=['Detail','ProvinceId','No','Gender','Nation','Province','District'])\n",
        "data.head()"
      ],
      "execution_count": 5,
      "outputs": [
        {
          "output_type": "execute_result",
          "data": {
            "text/html": [
              "<div>\n",
              "<style scoped>\n",
              "    .dataframe tbody tr th:only-of-type {\n",
              "        vertical-align: middle;\n",
              "    }\n",
              "\n",
              "    .dataframe tbody tr th {\n",
              "        vertical-align: top;\n",
              "    }\n",
              "\n",
              "    .dataframe thead th {\n",
              "        text-align: right;\n",
              "    }\n",
              "</style>\n",
              "<table border=\"1\" class=\"dataframe\">\n",
              "  <thead>\n",
              "    <tr style=\"text-align: right;\">\n",
              "      <th></th>\n",
              "      <th>ConfirmDate</th>\n",
              "      <th>Age</th>\n",
              "      <th>GenderEn</th>\n",
              "      <th>NationEn</th>\n",
              "      <th>ProvinceEn</th>\n",
              "    </tr>\n",
              "  </thead>\n",
              "  <tbody>\n",
              "    <tr>\n",
              "      <th>0</th>\n",
              "      <td>2020-04-14 00:00:00</td>\n",
              "      <td>50.0</td>\n",
              "      <td>Female</td>\n",
              "      <td>Thai</td>\n",
              "      <td>Bangkok</td>\n",
              "    </tr>\n",
              "    <tr>\n",
              "      <th>1</th>\n",
              "      <td>2020-04-14 00:00:00</td>\n",
              "      <td>48.0</td>\n",
              "      <td>Male</td>\n",
              "      <td>Thai</td>\n",
              "      <td>Bangkok</td>\n",
              "    </tr>\n",
              "    <tr>\n",
              "      <th>2</th>\n",
              "      <td>2020-04-14 00:00:00</td>\n",
              "      <td>39.0</td>\n",
              "      <td>Female</td>\n",
              "      <td>Thai</td>\n",
              "      <td>Bangkok</td>\n",
              "    </tr>\n",
              "    <tr>\n",
              "      <th>3</th>\n",
              "      <td>2020-04-14 00:00:00</td>\n",
              "      <td>11.0</td>\n",
              "      <td>Female</td>\n",
              "      <td>Thai</td>\n",
              "      <td>Bangkok</td>\n",
              "    </tr>\n",
              "    <tr>\n",
              "      <th>4</th>\n",
              "      <td>2020-04-14 00:00:00</td>\n",
              "      <td>60.0</td>\n",
              "      <td>Male</td>\n",
              "      <td>Thai</td>\n",
              "      <td>Pattani</td>\n",
              "    </tr>\n",
              "  </tbody>\n",
              "</table>\n",
              "</div>"
            ],
            "text/plain": [
              "           ConfirmDate   Age GenderEn NationEn ProvinceEn\n",
              "0  2020-04-14 00:00:00  50.0   Female     Thai    Bangkok\n",
              "1  2020-04-14 00:00:00  48.0     Male     Thai    Bangkok\n",
              "2  2020-04-14 00:00:00  39.0   Female     Thai    Bangkok\n",
              "3  2020-04-14 00:00:00  11.0   Female     Thai    Bangkok\n",
              "4  2020-04-14 00:00:00  60.0     Male     Thai    Pattani"
            ]
          },
          "metadata": {
            "tags": []
          },
          "execution_count": 5
        }
      ]
    },
    {
      "cell_type": "code",
      "metadata": {
        "id": "7x45qCKodMwY",
        "colab_type": "code",
        "colab": {
          "base_uri": "https://localhost:8080/",
          "height": 424
        },
        "outputId": "66f495f0-9ecd-4419-efd9-cf10ec648990"
      },
      "source": [
        "# check for null data\n",
        "pd.isnull(data)"
      ],
      "execution_count": 7,
      "outputs": [
        {
          "output_type": "execute_result",
          "data": {
            "text/html": [
              "<div>\n",
              "<style scoped>\n",
              "    .dataframe tbody tr th:only-of-type {\n",
              "        vertical-align: middle;\n",
              "    }\n",
              "\n",
              "    .dataframe tbody tr th {\n",
              "        vertical-align: top;\n",
              "    }\n",
              "\n",
              "    .dataframe thead th {\n",
              "        text-align: right;\n",
              "    }\n",
              "</style>\n",
              "<table border=\"1\" class=\"dataframe\">\n",
              "  <thead>\n",
              "    <tr style=\"text-align: right;\">\n",
              "      <th></th>\n",
              "      <th>ConfirmDate</th>\n",
              "      <th>Age</th>\n",
              "      <th>GenderEn</th>\n",
              "      <th>NationEn</th>\n",
              "      <th>ProvinceEn</th>\n",
              "    </tr>\n",
              "  </thead>\n",
              "  <tbody>\n",
              "    <tr>\n",
              "      <th>0</th>\n",
              "      <td>False</td>\n",
              "      <td>False</td>\n",
              "      <td>False</td>\n",
              "      <td>False</td>\n",
              "      <td>False</td>\n",
              "    </tr>\n",
              "    <tr>\n",
              "      <th>1</th>\n",
              "      <td>False</td>\n",
              "      <td>False</td>\n",
              "      <td>False</td>\n",
              "      <td>False</td>\n",
              "      <td>False</td>\n",
              "    </tr>\n",
              "    <tr>\n",
              "      <th>2</th>\n",
              "      <td>False</td>\n",
              "      <td>False</td>\n",
              "      <td>False</td>\n",
              "      <td>False</td>\n",
              "      <td>False</td>\n",
              "    </tr>\n",
              "    <tr>\n",
              "      <th>3</th>\n",
              "      <td>False</td>\n",
              "      <td>False</td>\n",
              "      <td>False</td>\n",
              "      <td>False</td>\n",
              "      <td>False</td>\n",
              "    </tr>\n",
              "    <tr>\n",
              "      <th>4</th>\n",
              "      <td>False</td>\n",
              "      <td>False</td>\n",
              "      <td>False</td>\n",
              "      <td>False</td>\n",
              "      <td>False</td>\n",
              "    </tr>\n",
              "    <tr>\n",
              "      <th>...</th>\n",
              "      <td>...</td>\n",
              "      <td>...</td>\n",
              "      <td>...</td>\n",
              "      <td>...</td>\n",
              "      <td>...</td>\n",
              "    </tr>\n",
              "    <tr>\n",
              "      <th>2607</th>\n",
              "      <td>False</td>\n",
              "      <td>False</td>\n",
              "      <td>False</td>\n",
              "      <td>False</td>\n",
              "      <td>False</td>\n",
              "    </tr>\n",
              "    <tr>\n",
              "      <th>2608</th>\n",
              "      <td>False</td>\n",
              "      <td>False</td>\n",
              "      <td>False</td>\n",
              "      <td>False</td>\n",
              "      <td>False</td>\n",
              "    </tr>\n",
              "    <tr>\n",
              "      <th>2609</th>\n",
              "      <td>False</td>\n",
              "      <td>False</td>\n",
              "      <td>False</td>\n",
              "      <td>False</td>\n",
              "      <td>False</td>\n",
              "    </tr>\n",
              "    <tr>\n",
              "      <th>2610</th>\n",
              "      <td>False</td>\n",
              "      <td>False</td>\n",
              "      <td>False</td>\n",
              "      <td>False</td>\n",
              "      <td>False</td>\n",
              "    </tr>\n",
              "    <tr>\n",
              "      <th>2611</th>\n",
              "      <td>False</td>\n",
              "      <td>False</td>\n",
              "      <td>False</td>\n",
              "      <td>False</td>\n",
              "      <td>False</td>\n",
              "    </tr>\n",
              "  </tbody>\n",
              "</table>\n",
              "<p>2612 rows × 5 columns</p>\n",
              "</div>"
            ],
            "text/plain": [
              "      ConfirmDate    Age  GenderEn  NationEn  ProvinceEn\n",
              "0           False  False     False     False       False\n",
              "1           False  False     False     False       False\n",
              "2           False  False     False     False       False\n",
              "3           False  False     False     False       False\n",
              "4           False  False     False     False       False\n",
              "...           ...    ...       ...       ...         ...\n",
              "2607        False  False     False     False       False\n",
              "2608        False  False     False     False       False\n",
              "2609        False  False     False     False       False\n",
              "2610        False  False     False     False       False\n",
              "2611        False  False     False     False       False\n",
              "\n",
              "[2612 rows x 5 columns]"
            ]
          },
          "metadata": {
            "tags": []
          },
          "execution_count": 7
        }
      ]
    },
    {
      "cell_type": "markdown",
      "metadata": {
        "id": "m3bzGih3dryf",
        "colab_type": "text"
      },
      "source": [
        "Okay all data is provided\n"
      ]
    },
    {
      "cell_type": "markdown",
      "metadata": {
        "id": "v58ygBhu5WOY",
        "colab_type": "text"
      },
      "source": [
        "# Summary\n",
        "Let's draw some conclusion from data"
      ]
    },
    {
      "cell_type": "code",
      "metadata": {
        "id": "8m03iqlX5f52",
        "colab_type": "code",
        "outputId": "a058b8d7-b3b5-481d-9d99-e444b696a8e9",
        "colab": {
          "base_uri": "https://localhost:8080/",
          "height": 300
        }
      },
      "source": [
        "# describe data we'll see only age because it is \n",
        "data.describe()"
      ],
      "execution_count": 6,
      "outputs": [
        {
          "output_type": "execute_result",
          "data": {
            "text/html": [
              "<div>\n",
              "<style scoped>\n",
              "    .dataframe tbody tr th:only-of-type {\n",
              "        vertical-align: middle;\n",
              "    }\n",
              "\n",
              "    .dataframe tbody tr th {\n",
              "        vertical-align: top;\n",
              "    }\n",
              "\n",
              "    .dataframe thead th {\n",
              "        text-align: right;\n",
              "    }\n",
              "</style>\n",
              "<table border=\"1\" class=\"dataframe\">\n",
              "  <thead>\n",
              "    <tr style=\"text-align: right;\">\n",
              "      <th></th>\n",
              "      <th>Age</th>\n",
              "    </tr>\n",
              "  </thead>\n",
              "  <tbody>\n",
              "    <tr>\n",
              "      <th>count</th>\n",
              "      <td>2608.000000</td>\n",
              "    </tr>\n",
              "    <tr>\n",
              "      <th>mean</th>\n",
              "      <td>37.860429</td>\n",
              "    </tr>\n",
              "    <tr>\n",
              "      <th>std</th>\n",
              "      <td>17.055239</td>\n",
              "    </tr>\n",
              "    <tr>\n",
              "      <th>min</th>\n",
              "      <td>0.000000</td>\n",
              "    </tr>\n",
              "    <tr>\n",
              "      <th>25%</th>\n",
              "      <td>27.000000</td>\n",
              "    </tr>\n",
              "    <tr>\n",
              "      <th>50%</th>\n",
              "      <td>36.000000</td>\n",
              "    </tr>\n",
              "    <tr>\n",
              "      <th>75%</th>\n",
              "      <td>49.000000</td>\n",
              "    </tr>\n",
              "    <tr>\n",
              "      <th>max</th>\n",
              "      <td>97.000000</td>\n",
              "    </tr>\n",
              "  </tbody>\n",
              "</table>\n",
              "</div>"
            ],
            "text/plain": [
              "               Age\n",
              "count  2608.000000\n",
              "mean     37.860429\n",
              "std      17.055239\n",
              "min       0.000000\n",
              "25%      27.000000\n",
              "50%      36.000000\n",
              "75%      49.000000\n",
              "max      97.000000"
            ]
          },
          "metadata": {
            "tags": []
          },
          "execution_count": 6
        }
      ]
    },
    {
      "cell_type": "markdown",
      "metadata": {
        "id": "1mNx1-lZdy6W",
        "colab_type": "text"
      },
      "source": [
        ""
      ]
    },
    {
      "cell_type": "markdown",
      "metadata": {
        "id": "iBHZf38u7u3P",
        "colab_type": "text"
      },
      "source": [
        ""
      ]
    }
  ]
}