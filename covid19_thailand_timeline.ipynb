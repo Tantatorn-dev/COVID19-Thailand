{
  "nbformat": 4,
  "nbformat_minor": 0,
  "metadata": {
    "colab": {
      "name": "covid19-thailand-timeline.ipynb",
      "provenance": [],
      "collapsed_sections": [],
      "mount_file_id": "1E3FBRxzQ6oCa5C25r2kEwSi7DdS2D76f",
      "authorship_tag": "ABX9TyMtp7/FPzqOLhHJFpEVtrGQ",
      "include_colab_link": true
    },
    "kernelspec": {
      "name": "python3",
      "display_name": "Python 3"
    }
  },
  "cells": [
    {
      "cell_type": "markdown",
      "metadata": {
        "id": "view-in-github",
        "colab_type": "text"
      },
      "source": [
        "<a href=\"https://colab.research.google.com/github/Tantatorn-dev/COVID19-Thailand/blob/master/covid19_thailand_timeline.ipynb\" target=\"_parent\"><img src=\"https://colab.research.google.com/assets/colab-badge.svg\" alt=\"Open In Colab\"/></a>"
      ]
    },
    {
      "cell_type": "markdown",
      "metadata": {
        "id": "PEb55jxOnp9f",
        "colab_type": "text"
      },
      "source": [
        "# Data Source\n",
        "I retrieve data from [Thailand Department of Disease Control](https://covid19.th-stat.com/th/api)"
      ]
    },
    {
      "cell_type": "markdown",
      "metadata": {
        "id": "jh9ZhQLzBVC4",
        "colab_type": "text"
      },
      "source": [
        "# Data Preparation\n",
        "ทดลองเอาข้อมูลสรุปตามช่วงเวลา (เริ่มตั้งแต่วันที่ 01/01/20) มาลองเล่นแร่แปรธาตุดู"
      ]
    },
    {
      "cell_type": "code",
      "metadata": {
        "id": "Mac5Bz1Bnhag",
        "colab_type": "code",
        "outputId": "31a8d347-1ab8-4d71-c278-d43023c6a6ce",
        "colab": {
          "base_uri": "https://localhost:8080/",
          "height": 54
        }
      },
      "source": [
        "import json\n",
        "import requests\n",
        "\n",
        "url = \"https://covid19.th-stat.com/api/open/timeline\"\n",
        "\n",
        "# get response from api\n",
        "res = requests.get(url)\n",
        "\n",
        "# parse json object\n",
        "json_data = res.json()\n",
        "print(json_data)"
      ],
      "execution_count": 2,
      "outputs": [
        {
          "output_type": "stream",
          "text": [
            "{'UpdateDate': '12/04/2020 11:41', 'Source': 'https://covid19.th-stat.com/', 'DevBy': 'https://www.kidkarnmai.com/', 'SeverBy': 'https://smilehost.asia/', 'Data': [{'Date': '01/01/2020', 'NewConfirmed': 0, 'NewRecovered': 0, 'NewHospitalized': 0, 'NewDeaths': 0, 'Confirmed': 0, 'Recovered': 0, 'Hospitalized': 0, 'Deaths': 0}, {'Date': '01/02/2020', 'NewConfirmed': 0, 'NewRecovered': 0, 'NewHospitalized': 0, 'NewDeaths': 0, 'Confirmed': 0, 'Recovered': 0, 'Hospitalized': 0, 'Deaths': 0}, {'Date': '01/03/2020', 'NewConfirmed': 0, 'NewRecovered': 0, 'NewHospitalized': 0, 'NewDeaths': 0, 'Confirmed': 0, 'Recovered': 0, 'Hospitalized': 0, 'Deaths': 0}, {'Date': '01/04/2020', 'NewConfirmed': 0, 'NewRecovered': 0, 'NewHospitalized': 0, 'NewDeaths': 0, 'Confirmed': 0, 'Recovered': 0, 'Hospitalized': 0, 'Deaths': 0}, {'Date': '01/05/2020', 'NewConfirmed': 0, 'NewRecovered': 0, 'NewHospitalized': 0, 'NewDeaths': 0, 'Confirmed': 0, 'Recovered': 0, 'Hospitalized': 0, 'Deaths': 0}, {'Date': '01/06/2020', 'NewConfirmed': 0, 'NewRecovered': 0, 'NewHospitalized': 0, 'NewDeaths': 0, 'Confirmed': 0, 'Recovered': 0, 'Hospitalized': 0, 'Deaths': 0}, {'Date': '01/07/2020', 'NewConfirmed': 0, 'NewRecovered': 0, 'NewHospitalized': 0, 'NewDeaths': 0, 'Confirmed': 0, 'Recovered': 0, 'Hospitalized': 0, 'Deaths': 0}, {'Date': '01/08/2020', 'NewConfirmed': 0, 'NewRecovered': 0, 'NewHospitalized': 0, 'NewDeaths': 0, 'Confirmed': 0, 'Recovered': 0, 'Hospitalized': 0, 'Deaths': 0}, {'Date': '01/09/2020', 'NewConfirmed': 0, 'NewRecovered': 0, 'NewHospitalized': 0, 'NewDeaths': 0, 'Confirmed': 0, 'Recovered': 0, 'Hospitalized': 0, 'Deaths': 0}, {'Date': '01/10/2020', 'NewConfirmed': 0, 'NewRecovered': 0, 'NewHospitalized': 0, 'NewDeaths': 0, 'Confirmed': 0, 'Recovered': 0, 'Hospitalized': 0, 'Deaths': 0}, {'Date': '01/11/2020', 'NewConfirmed': 0, 'NewRecovered': 0, 'NewHospitalized': 0, 'NewDeaths': 0, 'Confirmed': 0, 'Recovered': 0, 'Hospitalized': 0, 'Deaths': 0}, {'Date': '01/12/2020', 'NewConfirmed': 1, 'NewRecovered': 0, 'NewHospitalized': 1, 'NewDeaths': 0, 'Confirmed': 1, 'Recovered': 0, 'Hospitalized': 1, 'Deaths': 0}, {'Date': '01/13/2020', 'NewConfirmed': 0, 'NewRecovered': 0, 'NewHospitalized': 0, 'NewDeaths': 0, 'Confirmed': 1, 'Recovered': 0, 'Hospitalized': 1, 'Deaths': 0}, {'Date': '01/14/2020', 'NewConfirmed': 0, 'NewRecovered': 0, 'NewHospitalized': 0, 'NewDeaths': 0, 'Confirmed': 1, 'Recovered': 0, 'Hospitalized': 1, 'Deaths': 0}, {'Date': '01/15/2020', 'NewConfirmed': 0, 'NewRecovered': 0, 'NewHospitalized': 0, 'NewDeaths': 0, 'Confirmed': 1, 'Recovered': 0, 'Hospitalized': 1, 'Deaths': 0}, {'Date': '01/16/2020', 'NewConfirmed': 0, 'NewRecovered': 0, 'NewHospitalized': 0, 'NewDeaths': 0, 'Confirmed': 1, 'Recovered': 0, 'Hospitalized': 1, 'Deaths': 0}, {'Date': '01/17/2020', 'NewConfirmed': 1, 'NewRecovered': 0, 'NewHospitalized': 1, 'NewDeaths': 0, 'Confirmed': 2, 'Recovered': 0, 'Hospitalized': 2, 'Deaths': 0}, {'Date': '01/18/2020', 'NewConfirmed': 0, 'NewRecovered': 1, 'NewHospitalized': -1, 'NewDeaths': 0, 'Confirmed': 2, 'Recovered': 1, 'Hospitalized': 1, 'Deaths': 0}, {'Date': '01/19/2020', 'NewConfirmed': 0, 'NewRecovered': 0, 'NewHospitalized': 0, 'NewDeaths': 0, 'Confirmed': 2, 'Recovered': 1, 'Hospitalized': 1, 'Deaths': 0}, {'Date': '01/20/2020', 'NewConfirmed': 0, 'NewRecovered': 0, 'NewHospitalized': 0, 'NewDeaths': 0, 'Confirmed': 2, 'Recovered': 1, 'Hospitalized': 1, 'Deaths': 0}, {'Date': '01/21/2020', 'NewConfirmed': 0, 'NewRecovered': 1, 'NewHospitalized': -1, 'NewDeaths': 0, 'Confirmed': 2, 'Recovered': 2, 'Hospitalized': 0, 'Deaths': 0}, {'Date': '01/22/2020', 'NewConfirmed': 2, 'NewRecovered': 0, 'NewHospitalized': 2, 'NewDeaths': 0, 'Confirmed': 4, 'Recovered': 2, 'Hospitalized': 2, 'Deaths': 0}, {'Date': '01/23/2020', 'NewConfirmed': 0, 'NewRecovered': 0, 'NewHospitalized': 0, 'NewDeaths': 0, 'Confirmed': 4, 'Recovered': 2, 'Hospitalized': 2, 'Deaths': 0}, {'Date': '01/24/2020', 'NewConfirmed': 1, 'NewRecovered': 1, 'NewHospitalized': 0, 'NewDeaths': 0, 'Confirmed': 5, 'Recovered': 3, 'Hospitalized': 2, 'Deaths': 0}, {'Date': '01/25/2020', 'NewConfirmed': 1, 'NewRecovered': 0, 'NewHospitalized': 1, 'NewDeaths': 0, 'Confirmed': 6, 'Recovered': 3, 'Hospitalized': 3, 'Deaths': 0}, {'Date': '01/26/2020', 'NewConfirmed': 2, 'NewRecovered': 3, 'NewHospitalized': -1, 'NewDeaths': 0, 'Confirmed': 8, 'Recovered': 6, 'Hospitalized': 2, 'Deaths': 0}, {'Date': '01/27/2020', 'NewConfirmed': 0, 'NewRecovered': 0, 'NewHospitalized': 0, 'NewDeaths': 0, 'Confirmed': 8, 'Recovered': 6, 'Hospitalized': 2, 'Deaths': 0}, {'Date': '01/28/2020', 'NewConfirmed': 6, 'NewRecovered': 0, 'NewHospitalized': 6, 'NewDeaths': 0, 'Confirmed': 14, 'Recovered': 6, 'Hospitalized': 8, 'Deaths': 0}, {'Date': '01/29/2020', 'NewConfirmed': 0, 'NewRecovered': 0, 'NewHospitalized': 0, 'NewDeaths': 0, 'Confirmed': 14, 'Recovered': 6, 'Hospitalized': 8, 'Deaths': 0}, {'Date': '01/30/2020', 'NewConfirmed': 0, 'NewRecovered': 1, 'NewHospitalized': -1, 'NewDeaths': 0, 'Confirmed': 14, 'Recovered': 7, 'Hospitalized': 7, 'Deaths': 0}, {'Date': '01/31/2020', 'NewConfirmed': 5, 'NewRecovered': 1, 'NewHospitalized': 4, 'NewDeaths': 0, 'Confirmed': 19, 'Recovered': 8, 'Hospitalized': 11, 'Deaths': 0}, {'Date': '02/01/2020', 'NewConfirmed': 0, 'NewRecovered': 0, 'NewHospitalized': 0, 'NewDeaths': 0, 'Confirmed': 19, 'Recovered': 8, 'Hospitalized': 11, 'Deaths': 0}, {'Date': '02/02/2020', 'NewConfirmed': 0, 'NewRecovered': 1, 'NewHospitalized': -1, 'NewDeaths': 0, 'Confirmed': 19, 'Recovered': 9, 'Hospitalized': 10, 'Deaths': 0}, {'Date': '02/03/2020', 'NewConfirmed': 0, 'NewRecovered': 0, 'NewHospitalized': 0, 'NewDeaths': 0, 'Confirmed': 19, 'Recovered': 9, 'Hospitalized': 10, 'Deaths': 0}, {'Date': '02/04/2020', 'NewConfirmed': 6, 'NewRecovered': 1, 'NewHospitalized': 5, 'NewDeaths': 0, 'Confirmed': 25, 'Recovered': 10, 'Hospitalized': 15, 'Deaths': 0}, {'Date': '02/05/2020', 'NewConfirmed': 0, 'NewRecovered': 0, 'NewHospitalized': 0, 'NewDeaths': 0, 'Confirmed': 25, 'Recovered': 10, 'Hospitalized': 15, 'Deaths': 0}, {'Date': '02/06/2020', 'NewConfirmed': 0, 'NewRecovered': 0, 'NewHospitalized': 0, 'NewDeaths': 0, 'Confirmed': 25, 'Recovered': 10, 'Hospitalized': 15, 'Deaths': 0}, {'Date': '02/07/2020', 'NewConfirmed': 0, 'NewRecovered': 0, 'NewHospitalized': 0, 'NewDeaths': 0, 'Confirmed': 25, 'Recovered': 10, 'Hospitalized': 15, 'Deaths': 0}, {'Date': '02/08/2020', 'NewConfirmed': 7, 'NewRecovered': 0, 'NewHospitalized': 7, 'NewDeaths': 0, 'Confirmed': 32, 'Recovered': 10, 'Hospitalized': 22, 'Deaths': 0}, {'Date': '02/09/2020', 'NewConfirmed': 0, 'NewRecovered': 1, 'NewHospitalized': -1, 'NewDeaths': 0, 'Confirmed': 32, 'Recovered': 11, 'Hospitalized': 21, 'Deaths': 0}, {'Date': '02/10/2020', 'NewConfirmed': 0, 'NewRecovered': 0, 'NewHospitalized': 0, 'NewDeaths': 0, 'Confirmed': 32, 'Recovered': 11, 'Hospitalized': 21, 'Deaths': 0}, {'Date': '02/11/2020', 'NewConfirmed': 1, 'NewRecovered': 0, 'NewHospitalized': 1, 'NewDeaths': 0, 'Confirmed': 33, 'Recovered': 11, 'Hospitalized': 22, 'Deaths': 0}, {'Date': '02/12/2020', 'NewConfirmed': 0, 'NewRecovered': 0, 'NewHospitalized': 0, 'NewDeaths': 0, 'Confirmed': 33, 'Recovered': 11, 'Hospitalized': 22, 'Deaths': 0}, {'Date': '02/13/2020', 'NewConfirmed': 0, 'NewRecovered': 0, 'NewHospitalized': 0, 'NewDeaths': 0, 'Confirmed': 33, 'Recovered': 11, 'Hospitalized': 22, 'Deaths': 0}, {'Date': '02/14/2020', 'NewConfirmed': 0, 'NewRecovered': 0, 'NewHospitalized': 0, 'NewDeaths': 0, 'Confirmed': 33, 'Recovered': 11, 'Hospitalized': 22, 'Deaths': 0}, {'Date': '02/15/2020', 'NewConfirmed': 1, 'NewRecovered': 2, 'NewHospitalized': -1, 'NewDeaths': 0, 'Confirmed': 34, 'Recovered': 13, 'Hospitalized': 21, 'Deaths': 0}, {'Date': '02/16/2020', 'NewConfirmed': 0, 'NewRecovered': 2, 'NewHospitalized': -2, 'NewDeaths': 0, 'Confirmed': 34, 'Recovered': 15, 'Hospitalized': 19, 'Deaths': 0}, {'Date': '02/17/2020', 'NewConfirmed': 1, 'NewRecovered': 0, 'NewHospitalized': 1, 'NewDeaths': 0, 'Confirmed': 35, 'Recovered': 15, 'Hospitalized': 20, 'Deaths': 0}, {'Date': '02/18/2020', 'NewConfirmed': 0, 'NewRecovered': 0, 'NewHospitalized': 0, 'NewDeaths': 0, 'Confirmed': 35, 'Recovered': 15, 'Hospitalized': 20, 'Deaths': 0}, {'Date': '02/19/2020', 'NewConfirmed': 0, 'NewRecovered': 0, 'NewHospitalized': 0, 'NewDeaths': 0, 'Confirmed': 35, 'Recovered': 15, 'Hospitalized': 20, 'Deaths': 0}, {'Date': '02/20/2020', 'NewConfirmed': 0, 'NewRecovered': 2, 'NewHospitalized': -2, 'NewDeaths': 0, 'Confirmed': 35, 'Recovered': 17, 'Hospitalized': 18, 'Deaths': 0}, {'Date': '02/21/2020', 'NewConfirmed': 0, 'NewRecovered': 2, 'NewHospitalized': -2, 'NewDeaths': 0, 'Confirmed': 35, 'Recovered': 19, 'Hospitalized': 16, 'Deaths': 0}, {'Date': '02/22/2020', 'NewConfirmed': 0, 'NewRecovered': 1, 'NewHospitalized': -1, 'NewDeaths': 0, 'Confirmed': 35, 'Recovered': 20, 'Hospitalized': 15, 'Deaths': 0}, {'Date': '02/23/2020', 'NewConfirmed': 0, 'NewRecovered': 1, 'NewHospitalized': -1, 'NewDeaths': 0, 'Confirmed': 35, 'Recovered': 21, 'Hospitalized': 14, 'Deaths': 0}, {'Date': '02/24/2020', 'NewConfirmed': 0, 'NewRecovered': 0, 'NewHospitalized': 0, 'NewDeaths': 0, 'Confirmed': 35, 'Recovered': 21, 'Hospitalized': 14, 'Deaths': 0}, {'Date': '02/25/2020', 'NewConfirmed': 2, 'NewRecovered': 1, 'NewHospitalized': 1, 'NewDeaths': 0, 'Confirmed': 37, 'Recovered': 22, 'Hospitalized': 15, 'Deaths': 0}, {'Date': '02/26/2020', 'NewConfirmed': 3, 'NewRecovered': 2, 'NewHospitalized': 1, 'NewDeaths': 0, 'Confirmed': 40, 'Recovered': 24, 'Hospitalized': 16, 'Deaths': 0}, {'Date': '02/27/2020', 'NewConfirmed': 0, 'NewRecovered': 0, 'NewHospitalized': 0, 'NewDeaths': 0, 'Confirmed': 40, 'Recovered': 24, 'Hospitalized': 16, 'Deaths': 0}, {'Date': '02/28/2020', 'NewConfirmed': 1, 'NewRecovered': 4, 'NewHospitalized': -3, 'NewDeaths': 0, 'Confirmed': 41, 'Recovered': 28, 'Hospitalized': 13, 'Deaths': 0}, {'Date': '02/29/2020', 'NewConfirmed': 1, 'NewRecovered': 0, 'NewHospitalized': 1, 'NewDeaths': 0, 'Confirmed': 42, 'Recovered': 28, 'Hospitalized': 14, 'Deaths': 0}, {'Date': '03/01/2020', 'NewConfirmed': 0, 'NewRecovered': 2, 'NewHospitalized': -3, 'NewDeaths': 1, 'Confirmed': 42, 'Recovered': 30, 'Hospitalized': 11, 'Deaths': 1}, {'Date': '03/02/2020', 'NewConfirmed': 1, 'NewRecovered': 1, 'NewHospitalized': 0, 'NewDeaths': 0, 'Confirmed': 43, 'Recovered': 31, 'Hospitalized': 11, 'Deaths': 1}, {'Date': '03/03/2020', 'NewConfirmed': 0, 'NewRecovered': 0, 'NewHospitalized': 0, 'NewDeaths': 0, 'Confirmed': 43, 'Recovered': 31, 'Hospitalized': 11, 'Deaths': 1}, {'Date': '03/04/2020', 'NewConfirmed': 0, 'NewRecovered': 0, 'NewHospitalized': 0, 'NewDeaths': 0, 'Confirmed': 43, 'Recovered': 31, 'Hospitalized': 11, 'Deaths': 1}, {'Date': '03/05/2020', 'NewConfirmed': 4, 'NewRecovered': 0, 'NewHospitalized': 4, 'NewDeaths': 0, 'Confirmed': 47, 'Recovered': 31, 'Hospitalized': 15, 'Deaths': 1}, {'Date': '03/06/2020', 'NewConfirmed': 1, 'NewRecovered': 0, 'NewHospitalized': 1, 'NewDeaths': 0, 'Confirmed': 48, 'Recovered': 31, 'Hospitalized': 16, 'Deaths': 1}, {'Date': '03/07/2020', 'NewConfirmed': 2, 'NewRecovered': 0, 'NewHospitalized': 2, 'NewDeaths': 0, 'Confirmed': 50, 'Recovered': 31, 'Hospitalized': 18, 'Deaths': 1}, {'Date': '03/08/2020', 'NewConfirmed': 0, 'NewRecovered': 2, 'NewHospitalized': -2, 'NewDeaths': 0, 'Confirmed': 50, 'Recovered': 33, 'Hospitalized': 16, 'Deaths': 1}, {'Date': '03/09/2020', 'NewConfirmed': 0, 'NewRecovered': 0, 'NewHospitalized': 0, 'NewDeaths': 0, 'Confirmed': 50, 'Recovered': 33, 'Hospitalized': 16, 'Deaths': 1}, {'Date': '03/10/2020', 'NewConfirmed': 3, 'NewRecovered': 0, 'NewHospitalized': 3, 'NewDeaths': 0, 'Confirmed': 53, 'Recovered': 33, 'Hospitalized': 19, 'Deaths': 1}, {'Date': '03/11/2020', 'NewConfirmed': 6, 'NewRecovered': 1, 'NewHospitalized': 5, 'NewDeaths': 0, 'Confirmed': 59, 'Recovered': 34, 'Hospitalized': 24, 'Deaths': 1}, {'Date': '03/12/2020', 'NewConfirmed': 11, 'NewRecovered': 1, 'NewHospitalized': 10, 'NewDeaths': 0, 'Confirmed': 70, 'Recovered': 35, 'Hospitalized': 34, 'Deaths': 1}, {'Date': '03/13/2020', 'NewConfirmed': 5, 'NewRecovered': 0, 'NewHospitalized': 5, 'NewDeaths': 0, 'Confirmed': 75, 'Recovered': 35, 'Hospitalized': 39, 'Deaths': 1}, {'Date': '03/14/2020', 'NewConfirmed': 7, 'NewRecovered': 0, 'NewHospitalized': 7, 'NewDeaths': 0, 'Confirmed': 82, 'Recovered': 35, 'Hospitalized': 46, 'Deaths': 1}, {'Date': '03/15/2020', 'NewConfirmed': 32, 'NewRecovered': 2, 'NewHospitalized': 30, 'NewDeaths': 0, 'Confirmed': 114, 'Recovered': 37, 'Hospitalized': 76, 'Deaths': 1}, {'Date': '03/16/2020', 'NewConfirmed': 33, 'NewRecovered': 1, 'NewHospitalized': 32, 'NewDeaths': 0, 'Confirmed': 147, 'Recovered': 38, 'Hospitalized': 108, 'Deaths': 1}, {'Date': '03/17/2020', 'NewConfirmed': 30, 'NewRecovered': 3, 'NewHospitalized': 27, 'NewDeaths': 0, 'Confirmed': 177, 'Recovered': 41, 'Hospitalized': 135, 'Deaths': 1}, {'Date': '03/18/2020', 'NewConfirmed': 35, 'NewRecovered': 1, 'NewHospitalized': 34, 'NewDeaths': 0, 'Confirmed': 212, 'Recovered': 42, 'Hospitalized': 169, 'Deaths': 1}, {'Date': '03/19/2020', 'NewConfirmed': 60, 'NewRecovered': 0, 'NewHospitalized': 60, 'NewDeaths': 0, 'Confirmed': 272, 'Recovered': 42, 'Hospitalized': 229, 'Deaths': 1}, {'Date': '03/20/2020', 'NewConfirmed': 50, 'NewRecovered': 1, 'NewHospitalized': 49, 'NewDeaths': 0, 'Confirmed': 322, 'Recovered': 43, 'Hospitalized': 278, 'Deaths': 1}, {'Date': '03/21/2020', 'NewConfirmed': 89, 'NewRecovered': 1, 'NewHospitalized': 88, 'NewDeaths': 0, 'Confirmed': 411, 'Recovered': 44, 'Hospitalized': 366, 'Deaths': 1}, {'Date': '03/22/2020', 'NewConfirmed': 188, 'NewRecovered': 1, 'NewHospitalized': 187, 'NewDeaths': 0, 'Confirmed': 599, 'Recovered': 45, 'Hospitalized': 553, 'Deaths': 1}, {'Date': '03/23/2020', 'NewConfirmed': 122, 'NewRecovered': 7, 'NewHospitalized': 115, 'NewDeaths': 0, 'Confirmed': 721, 'Recovered': 52, 'Hospitalized': 668, 'Deaths': 1}, {'Date': '03/24/2020', 'NewConfirmed': 106, 'NewRecovered': 5, 'NewHospitalized': 98, 'NewDeaths': 3, 'Confirmed': 827, 'Recovered': 57, 'Hospitalized': 766, 'Deaths': 4}, {'Date': '03/25/2020', 'NewConfirmed': 107, 'NewRecovered': 13, 'NewHospitalized': 94, 'NewDeaths': 0, 'Confirmed': 934, 'Recovered': 70, 'Hospitalized': 860, 'Deaths': 4}, {'Date': '03/26/2020', 'NewConfirmed': 111, 'NewRecovered': 18, 'NewHospitalized': 93, 'NewDeaths': 0, 'Confirmed': 1045, 'Recovered': 88, 'Hospitalized': 953, 'Deaths': 4}, {'Date': '03/27/2020', 'NewConfirmed': 91, 'NewRecovered': 9, 'NewHospitalized': 81, 'NewDeaths': 1, 'Confirmed': 1136, 'Recovered': 97, 'Hospitalized': 1034, 'Deaths': 5}, {'Date': '03/28/2020', 'NewConfirmed': 109, 'NewRecovered': 3, 'NewHospitalized': 105, 'NewDeaths': 1, 'Confirmed': 1245, 'Recovered': 100, 'Hospitalized': 1139, 'Deaths': 6}, {'Date': '03/29/2020', 'NewConfirmed': 143, 'NewRecovered': 11, 'NewHospitalized': 131, 'NewDeaths': 1, 'Confirmed': 1388, 'Recovered': 111, 'Hospitalized': 1270, 'Deaths': 7}, {'Date': '03/30/2020', 'NewConfirmed': 136, 'NewRecovered': 16, 'NewHospitalized': 118, 'NewDeaths': 2, 'Confirmed': 1524, 'Recovered': 127, 'Hospitalized': 1388, 'Deaths': 9}, {'Date': '03/31/2020', 'NewConfirmed': 127, 'NewRecovered': 215, 'NewHospitalized': -89, 'NewDeaths': 1, 'Confirmed': 1651, 'Recovered': 342, 'Hospitalized': 1299, 'Deaths': 10}, {'Date': '04/01/2020', 'NewConfirmed': 120, 'NewRecovered': 74, 'NewHospitalized': 44, 'NewDeaths': 2, 'Confirmed': 1771, 'Recovered': 416, 'Hospitalized': 1343, 'Deaths': 12}, {'Date': '04/02/2020', 'NewConfirmed': 104, 'NewRecovered': 89, 'NewHospitalized': 12, 'NewDeaths': 3, 'Confirmed': 1875, 'Recovered': 505, 'Hospitalized': 1355, 'Deaths': 15}, {'Date': '04/03/2020', 'NewConfirmed': 103, 'NewRecovered': 76, 'NewHospitalized': 23, 'NewDeaths': 4, 'Confirmed': 1978, 'Recovered': 581, 'Hospitalized': 1378, 'Deaths': 19}, {'Date': '04/04/2020', 'NewConfirmed': 89, 'NewRecovered': 31, 'NewHospitalized': 57, 'NewDeaths': 1, 'Confirmed': 2067, 'Recovered': 612, 'Hospitalized': 1435, 'Deaths': 20}, {'Date': '04/05/2020', 'NewConfirmed': 102, 'NewRecovered': 62, 'NewHospitalized': 37, 'NewDeaths': 3, 'Confirmed': 2169, 'Recovered': 674, 'Hospitalized': 1472, 'Deaths': 23}, {'Date': '04/06/2020', 'NewConfirmed': 51, 'NewRecovered': 119, 'NewHospitalized': -71, 'NewDeaths': 3, 'Confirmed': 2220, 'Recovered': 793, 'Hospitalized': 1401, 'Deaths': 26}, {'Date': '04/07/2020', 'NewConfirmed': 38, 'NewRecovered': 31, 'NewHospitalized': 6, 'NewDeaths': 1, 'Confirmed': 2258, 'Recovered': 824, 'Hospitalized': 1407, 'Deaths': 27}, {'Date': '04/08/2020', 'NewConfirmed': 111, 'NewRecovered': 64, 'NewHospitalized': 44, 'NewDeaths': 3, 'Confirmed': 2369, 'Recovered': 888, 'Hospitalized': 1451, 'Deaths': 30}, {'Date': '04/09/2020', 'NewConfirmed': 54, 'NewRecovered': 52, 'NewHospitalized': 0, 'NewDeaths': 2, 'Confirmed': 2423, 'Recovered': 940, 'Hospitalized': 1451, 'Deaths': 32}, {'Date': '04/10/2020', 'NewConfirmed': 50, 'NewRecovered': 73, 'NewHospitalized': -24, 'NewDeaths': 1, 'Confirmed': 2473, 'Recovered': 1013, 'Hospitalized': 1427, 'Deaths': 33}, {'Date': '04/11/2020', 'NewConfirmed': 45, 'NewRecovered': 122, 'NewHospitalized': -79, 'NewDeaths': 2, 'Confirmed': 2518, 'Recovered': 1135, 'Hospitalized': 1348, 'Deaths': 35}, {'Date': '04/12/2020', 'NewConfirmed': 33, 'NewRecovered': 83, 'NewHospitalized': -53, 'NewDeaths': 3, 'Confirmed': 2551, 'Recovered': 1218, 'Hospitalized': 1295, 'Deaths': 38}]}\n"
          ],
          "name": "stdout"
        }
      ]
    },
    {
      "cell_type": "code",
      "metadata": {
        "id": "j33pnxuZtbpx",
        "colab_type": "code",
        "outputId": "fabac0bd-ebd3-4395-be42-af0742aefacb",
        "colab": {
          "base_uri": "https://localhost:8080/",
          "height": 54
        }
      },
      "source": [
        "# extract only designated data\n",
        "json_data = json_data['Data']\n",
        "print(json_data)"
      ],
      "execution_count": 3,
      "outputs": [
        {
          "output_type": "stream",
          "text": [
            "[{'Date': '01/01/2020', 'NewConfirmed': 0, 'NewRecovered': 0, 'NewHospitalized': 0, 'NewDeaths': 0, 'Confirmed': 0, 'Recovered': 0, 'Hospitalized': 0, 'Deaths': 0}, {'Date': '01/02/2020', 'NewConfirmed': 0, 'NewRecovered': 0, 'NewHospitalized': 0, 'NewDeaths': 0, 'Confirmed': 0, 'Recovered': 0, 'Hospitalized': 0, 'Deaths': 0}, {'Date': '01/03/2020', 'NewConfirmed': 0, 'NewRecovered': 0, 'NewHospitalized': 0, 'NewDeaths': 0, 'Confirmed': 0, 'Recovered': 0, 'Hospitalized': 0, 'Deaths': 0}, {'Date': '01/04/2020', 'NewConfirmed': 0, 'NewRecovered': 0, 'NewHospitalized': 0, 'NewDeaths': 0, 'Confirmed': 0, 'Recovered': 0, 'Hospitalized': 0, 'Deaths': 0}, {'Date': '01/05/2020', 'NewConfirmed': 0, 'NewRecovered': 0, 'NewHospitalized': 0, 'NewDeaths': 0, 'Confirmed': 0, 'Recovered': 0, 'Hospitalized': 0, 'Deaths': 0}, {'Date': '01/06/2020', 'NewConfirmed': 0, 'NewRecovered': 0, 'NewHospitalized': 0, 'NewDeaths': 0, 'Confirmed': 0, 'Recovered': 0, 'Hospitalized': 0, 'Deaths': 0}, {'Date': '01/07/2020', 'NewConfirmed': 0, 'NewRecovered': 0, 'NewHospitalized': 0, 'NewDeaths': 0, 'Confirmed': 0, 'Recovered': 0, 'Hospitalized': 0, 'Deaths': 0}, {'Date': '01/08/2020', 'NewConfirmed': 0, 'NewRecovered': 0, 'NewHospitalized': 0, 'NewDeaths': 0, 'Confirmed': 0, 'Recovered': 0, 'Hospitalized': 0, 'Deaths': 0}, {'Date': '01/09/2020', 'NewConfirmed': 0, 'NewRecovered': 0, 'NewHospitalized': 0, 'NewDeaths': 0, 'Confirmed': 0, 'Recovered': 0, 'Hospitalized': 0, 'Deaths': 0}, {'Date': '01/10/2020', 'NewConfirmed': 0, 'NewRecovered': 0, 'NewHospitalized': 0, 'NewDeaths': 0, 'Confirmed': 0, 'Recovered': 0, 'Hospitalized': 0, 'Deaths': 0}, {'Date': '01/11/2020', 'NewConfirmed': 0, 'NewRecovered': 0, 'NewHospitalized': 0, 'NewDeaths': 0, 'Confirmed': 0, 'Recovered': 0, 'Hospitalized': 0, 'Deaths': 0}, {'Date': '01/12/2020', 'NewConfirmed': 1, 'NewRecovered': 0, 'NewHospitalized': 1, 'NewDeaths': 0, 'Confirmed': 1, 'Recovered': 0, 'Hospitalized': 1, 'Deaths': 0}, {'Date': '01/13/2020', 'NewConfirmed': 0, 'NewRecovered': 0, 'NewHospitalized': 0, 'NewDeaths': 0, 'Confirmed': 1, 'Recovered': 0, 'Hospitalized': 1, 'Deaths': 0}, {'Date': '01/14/2020', 'NewConfirmed': 0, 'NewRecovered': 0, 'NewHospitalized': 0, 'NewDeaths': 0, 'Confirmed': 1, 'Recovered': 0, 'Hospitalized': 1, 'Deaths': 0}, {'Date': '01/15/2020', 'NewConfirmed': 0, 'NewRecovered': 0, 'NewHospitalized': 0, 'NewDeaths': 0, 'Confirmed': 1, 'Recovered': 0, 'Hospitalized': 1, 'Deaths': 0}, {'Date': '01/16/2020', 'NewConfirmed': 0, 'NewRecovered': 0, 'NewHospitalized': 0, 'NewDeaths': 0, 'Confirmed': 1, 'Recovered': 0, 'Hospitalized': 1, 'Deaths': 0}, {'Date': '01/17/2020', 'NewConfirmed': 1, 'NewRecovered': 0, 'NewHospitalized': 1, 'NewDeaths': 0, 'Confirmed': 2, 'Recovered': 0, 'Hospitalized': 2, 'Deaths': 0}, {'Date': '01/18/2020', 'NewConfirmed': 0, 'NewRecovered': 1, 'NewHospitalized': -1, 'NewDeaths': 0, 'Confirmed': 2, 'Recovered': 1, 'Hospitalized': 1, 'Deaths': 0}, {'Date': '01/19/2020', 'NewConfirmed': 0, 'NewRecovered': 0, 'NewHospitalized': 0, 'NewDeaths': 0, 'Confirmed': 2, 'Recovered': 1, 'Hospitalized': 1, 'Deaths': 0}, {'Date': '01/20/2020', 'NewConfirmed': 0, 'NewRecovered': 0, 'NewHospitalized': 0, 'NewDeaths': 0, 'Confirmed': 2, 'Recovered': 1, 'Hospitalized': 1, 'Deaths': 0}, {'Date': '01/21/2020', 'NewConfirmed': 0, 'NewRecovered': 1, 'NewHospitalized': -1, 'NewDeaths': 0, 'Confirmed': 2, 'Recovered': 2, 'Hospitalized': 0, 'Deaths': 0}, {'Date': '01/22/2020', 'NewConfirmed': 2, 'NewRecovered': 0, 'NewHospitalized': 2, 'NewDeaths': 0, 'Confirmed': 4, 'Recovered': 2, 'Hospitalized': 2, 'Deaths': 0}, {'Date': '01/23/2020', 'NewConfirmed': 0, 'NewRecovered': 0, 'NewHospitalized': 0, 'NewDeaths': 0, 'Confirmed': 4, 'Recovered': 2, 'Hospitalized': 2, 'Deaths': 0}, {'Date': '01/24/2020', 'NewConfirmed': 1, 'NewRecovered': 1, 'NewHospitalized': 0, 'NewDeaths': 0, 'Confirmed': 5, 'Recovered': 3, 'Hospitalized': 2, 'Deaths': 0}, {'Date': '01/25/2020', 'NewConfirmed': 1, 'NewRecovered': 0, 'NewHospitalized': 1, 'NewDeaths': 0, 'Confirmed': 6, 'Recovered': 3, 'Hospitalized': 3, 'Deaths': 0}, {'Date': '01/26/2020', 'NewConfirmed': 2, 'NewRecovered': 3, 'NewHospitalized': -1, 'NewDeaths': 0, 'Confirmed': 8, 'Recovered': 6, 'Hospitalized': 2, 'Deaths': 0}, {'Date': '01/27/2020', 'NewConfirmed': 0, 'NewRecovered': 0, 'NewHospitalized': 0, 'NewDeaths': 0, 'Confirmed': 8, 'Recovered': 6, 'Hospitalized': 2, 'Deaths': 0}, {'Date': '01/28/2020', 'NewConfirmed': 6, 'NewRecovered': 0, 'NewHospitalized': 6, 'NewDeaths': 0, 'Confirmed': 14, 'Recovered': 6, 'Hospitalized': 8, 'Deaths': 0}, {'Date': '01/29/2020', 'NewConfirmed': 0, 'NewRecovered': 0, 'NewHospitalized': 0, 'NewDeaths': 0, 'Confirmed': 14, 'Recovered': 6, 'Hospitalized': 8, 'Deaths': 0}, {'Date': '01/30/2020', 'NewConfirmed': 0, 'NewRecovered': 1, 'NewHospitalized': -1, 'NewDeaths': 0, 'Confirmed': 14, 'Recovered': 7, 'Hospitalized': 7, 'Deaths': 0}, {'Date': '01/31/2020', 'NewConfirmed': 5, 'NewRecovered': 1, 'NewHospitalized': 4, 'NewDeaths': 0, 'Confirmed': 19, 'Recovered': 8, 'Hospitalized': 11, 'Deaths': 0}, {'Date': '02/01/2020', 'NewConfirmed': 0, 'NewRecovered': 0, 'NewHospitalized': 0, 'NewDeaths': 0, 'Confirmed': 19, 'Recovered': 8, 'Hospitalized': 11, 'Deaths': 0}, {'Date': '02/02/2020', 'NewConfirmed': 0, 'NewRecovered': 1, 'NewHospitalized': -1, 'NewDeaths': 0, 'Confirmed': 19, 'Recovered': 9, 'Hospitalized': 10, 'Deaths': 0}, {'Date': '02/03/2020', 'NewConfirmed': 0, 'NewRecovered': 0, 'NewHospitalized': 0, 'NewDeaths': 0, 'Confirmed': 19, 'Recovered': 9, 'Hospitalized': 10, 'Deaths': 0}, {'Date': '02/04/2020', 'NewConfirmed': 6, 'NewRecovered': 1, 'NewHospitalized': 5, 'NewDeaths': 0, 'Confirmed': 25, 'Recovered': 10, 'Hospitalized': 15, 'Deaths': 0}, {'Date': '02/05/2020', 'NewConfirmed': 0, 'NewRecovered': 0, 'NewHospitalized': 0, 'NewDeaths': 0, 'Confirmed': 25, 'Recovered': 10, 'Hospitalized': 15, 'Deaths': 0}, {'Date': '02/06/2020', 'NewConfirmed': 0, 'NewRecovered': 0, 'NewHospitalized': 0, 'NewDeaths': 0, 'Confirmed': 25, 'Recovered': 10, 'Hospitalized': 15, 'Deaths': 0}, {'Date': '02/07/2020', 'NewConfirmed': 0, 'NewRecovered': 0, 'NewHospitalized': 0, 'NewDeaths': 0, 'Confirmed': 25, 'Recovered': 10, 'Hospitalized': 15, 'Deaths': 0}, {'Date': '02/08/2020', 'NewConfirmed': 7, 'NewRecovered': 0, 'NewHospitalized': 7, 'NewDeaths': 0, 'Confirmed': 32, 'Recovered': 10, 'Hospitalized': 22, 'Deaths': 0}, {'Date': '02/09/2020', 'NewConfirmed': 0, 'NewRecovered': 1, 'NewHospitalized': -1, 'NewDeaths': 0, 'Confirmed': 32, 'Recovered': 11, 'Hospitalized': 21, 'Deaths': 0}, {'Date': '02/10/2020', 'NewConfirmed': 0, 'NewRecovered': 0, 'NewHospitalized': 0, 'NewDeaths': 0, 'Confirmed': 32, 'Recovered': 11, 'Hospitalized': 21, 'Deaths': 0}, {'Date': '02/11/2020', 'NewConfirmed': 1, 'NewRecovered': 0, 'NewHospitalized': 1, 'NewDeaths': 0, 'Confirmed': 33, 'Recovered': 11, 'Hospitalized': 22, 'Deaths': 0}, {'Date': '02/12/2020', 'NewConfirmed': 0, 'NewRecovered': 0, 'NewHospitalized': 0, 'NewDeaths': 0, 'Confirmed': 33, 'Recovered': 11, 'Hospitalized': 22, 'Deaths': 0}, {'Date': '02/13/2020', 'NewConfirmed': 0, 'NewRecovered': 0, 'NewHospitalized': 0, 'NewDeaths': 0, 'Confirmed': 33, 'Recovered': 11, 'Hospitalized': 22, 'Deaths': 0}, {'Date': '02/14/2020', 'NewConfirmed': 0, 'NewRecovered': 0, 'NewHospitalized': 0, 'NewDeaths': 0, 'Confirmed': 33, 'Recovered': 11, 'Hospitalized': 22, 'Deaths': 0}, {'Date': '02/15/2020', 'NewConfirmed': 1, 'NewRecovered': 2, 'NewHospitalized': -1, 'NewDeaths': 0, 'Confirmed': 34, 'Recovered': 13, 'Hospitalized': 21, 'Deaths': 0}, {'Date': '02/16/2020', 'NewConfirmed': 0, 'NewRecovered': 2, 'NewHospitalized': -2, 'NewDeaths': 0, 'Confirmed': 34, 'Recovered': 15, 'Hospitalized': 19, 'Deaths': 0}, {'Date': '02/17/2020', 'NewConfirmed': 1, 'NewRecovered': 0, 'NewHospitalized': 1, 'NewDeaths': 0, 'Confirmed': 35, 'Recovered': 15, 'Hospitalized': 20, 'Deaths': 0}, {'Date': '02/18/2020', 'NewConfirmed': 0, 'NewRecovered': 0, 'NewHospitalized': 0, 'NewDeaths': 0, 'Confirmed': 35, 'Recovered': 15, 'Hospitalized': 20, 'Deaths': 0}, {'Date': '02/19/2020', 'NewConfirmed': 0, 'NewRecovered': 0, 'NewHospitalized': 0, 'NewDeaths': 0, 'Confirmed': 35, 'Recovered': 15, 'Hospitalized': 20, 'Deaths': 0}, {'Date': '02/20/2020', 'NewConfirmed': 0, 'NewRecovered': 2, 'NewHospitalized': -2, 'NewDeaths': 0, 'Confirmed': 35, 'Recovered': 17, 'Hospitalized': 18, 'Deaths': 0}, {'Date': '02/21/2020', 'NewConfirmed': 0, 'NewRecovered': 2, 'NewHospitalized': -2, 'NewDeaths': 0, 'Confirmed': 35, 'Recovered': 19, 'Hospitalized': 16, 'Deaths': 0}, {'Date': '02/22/2020', 'NewConfirmed': 0, 'NewRecovered': 1, 'NewHospitalized': -1, 'NewDeaths': 0, 'Confirmed': 35, 'Recovered': 20, 'Hospitalized': 15, 'Deaths': 0}, {'Date': '02/23/2020', 'NewConfirmed': 0, 'NewRecovered': 1, 'NewHospitalized': -1, 'NewDeaths': 0, 'Confirmed': 35, 'Recovered': 21, 'Hospitalized': 14, 'Deaths': 0}, {'Date': '02/24/2020', 'NewConfirmed': 0, 'NewRecovered': 0, 'NewHospitalized': 0, 'NewDeaths': 0, 'Confirmed': 35, 'Recovered': 21, 'Hospitalized': 14, 'Deaths': 0}, {'Date': '02/25/2020', 'NewConfirmed': 2, 'NewRecovered': 1, 'NewHospitalized': 1, 'NewDeaths': 0, 'Confirmed': 37, 'Recovered': 22, 'Hospitalized': 15, 'Deaths': 0}, {'Date': '02/26/2020', 'NewConfirmed': 3, 'NewRecovered': 2, 'NewHospitalized': 1, 'NewDeaths': 0, 'Confirmed': 40, 'Recovered': 24, 'Hospitalized': 16, 'Deaths': 0}, {'Date': '02/27/2020', 'NewConfirmed': 0, 'NewRecovered': 0, 'NewHospitalized': 0, 'NewDeaths': 0, 'Confirmed': 40, 'Recovered': 24, 'Hospitalized': 16, 'Deaths': 0}, {'Date': '02/28/2020', 'NewConfirmed': 1, 'NewRecovered': 4, 'NewHospitalized': -3, 'NewDeaths': 0, 'Confirmed': 41, 'Recovered': 28, 'Hospitalized': 13, 'Deaths': 0}, {'Date': '02/29/2020', 'NewConfirmed': 1, 'NewRecovered': 0, 'NewHospitalized': 1, 'NewDeaths': 0, 'Confirmed': 42, 'Recovered': 28, 'Hospitalized': 14, 'Deaths': 0}, {'Date': '03/01/2020', 'NewConfirmed': 0, 'NewRecovered': 2, 'NewHospitalized': -3, 'NewDeaths': 1, 'Confirmed': 42, 'Recovered': 30, 'Hospitalized': 11, 'Deaths': 1}, {'Date': '03/02/2020', 'NewConfirmed': 1, 'NewRecovered': 1, 'NewHospitalized': 0, 'NewDeaths': 0, 'Confirmed': 43, 'Recovered': 31, 'Hospitalized': 11, 'Deaths': 1}, {'Date': '03/03/2020', 'NewConfirmed': 0, 'NewRecovered': 0, 'NewHospitalized': 0, 'NewDeaths': 0, 'Confirmed': 43, 'Recovered': 31, 'Hospitalized': 11, 'Deaths': 1}, {'Date': '03/04/2020', 'NewConfirmed': 0, 'NewRecovered': 0, 'NewHospitalized': 0, 'NewDeaths': 0, 'Confirmed': 43, 'Recovered': 31, 'Hospitalized': 11, 'Deaths': 1}, {'Date': '03/05/2020', 'NewConfirmed': 4, 'NewRecovered': 0, 'NewHospitalized': 4, 'NewDeaths': 0, 'Confirmed': 47, 'Recovered': 31, 'Hospitalized': 15, 'Deaths': 1}, {'Date': '03/06/2020', 'NewConfirmed': 1, 'NewRecovered': 0, 'NewHospitalized': 1, 'NewDeaths': 0, 'Confirmed': 48, 'Recovered': 31, 'Hospitalized': 16, 'Deaths': 1}, {'Date': '03/07/2020', 'NewConfirmed': 2, 'NewRecovered': 0, 'NewHospitalized': 2, 'NewDeaths': 0, 'Confirmed': 50, 'Recovered': 31, 'Hospitalized': 18, 'Deaths': 1}, {'Date': '03/08/2020', 'NewConfirmed': 0, 'NewRecovered': 2, 'NewHospitalized': -2, 'NewDeaths': 0, 'Confirmed': 50, 'Recovered': 33, 'Hospitalized': 16, 'Deaths': 1}, {'Date': '03/09/2020', 'NewConfirmed': 0, 'NewRecovered': 0, 'NewHospitalized': 0, 'NewDeaths': 0, 'Confirmed': 50, 'Recovered': 33, 'Hospitalized': 16, 'Deaths': 1}, {'Date': '03/10/2020', 'NewConfirmed': 3, 'NewRecovered': 0, 'NewHospitalized': 3, 'NewDeaths': 0, 'Confirmed': 53, 'Recovered': 33, 'Hospitalized': 19, 'Deaths': 1}, {'Date': '03/11/2020', 'NewConfirmed': 6, 'NewRecovered': 1, 'NewHospitalized': 5, 'NewDeaths': 0, 'Confirmed': 59, 'Recovered': 34, 'Hospitalized': 24, 'Deaths': 1}, {'Date': '03/12/2020', 'NewConfirmed': 11, 'NewRecovered': 1, 'NewHospitalized': 10, 'NewDeaths': 0, 'Confirmed': 70, 'Recovered': 35, 'Hospitalized': 34, 'Deaths': 1}, {'Date': '03/13/2020', 'NewConfirmed': 5, 'NewRecovered': 0, 'NewHospitalized': 5, 'NewDeaths': 0, 'Confirmed': 75, 'Recovered': 35, 'Hospitalized': 39, 'Deaths': 1}, {'Date': '03/14/2020', 'NewConfirmed': 7, 'NewRecovered': 0, 'NewHospitalized': 7, 'NewDeaths': 0, 'Confirmed': 82, 'Recovered': 35, 'Hospitalized': 46, 'Deaths': 1}, {'Date': '03/15/2020', 'NewConfirmed': 32, 'NewRecovered': 2, 'NewHospitalized': 30, 'NewDeaths': 0, 'Confirmed': 114, 'Recovered': 37, 'Hospitalized': 76, 'Deaths': 1}, {'Date': '03/16/2020', 'NewConfirmed': 33, 'NewRecovered': 1, 'NewHospitalized': 32, 'NewDeaths': 0, 'Confirmed': 147, 'Recovered': 38, 'Hospitalized': 108, 'Deaths': 1}, {'Date': '03/17/2020', 'NewConfirmed': 30, 'NewRecovered': 3, 'NewHospitalized': 27, 'NewDeaths': 0, 'Confirmed': 177, 'Recovered': 41, 'Hospitalized': 135, 'Deaths': 1}, {'Date': '03/18/2020', 'NewConfirmed': 35, 'NewRecovered': 1, 'NewHospitalized': 34, 'NewDeaths': 0, 'Confirmed': 212, 'Recovered': 42, 'Hospitalized': 169, 'Deaths': 1}, {'Date': '03/19/2020', 'NewConfirmed': 60, 'NewRecovered': 0, 'NewHospitalized': 60, 'NewDeaths': 0, 'Confirmed': 272, 'Recovered': 42, 'Hospitalized': 229, 'Deaths': 1}, {'Date': '03/20/2020', 'NewConfirmed': 50, 'NewRecovered': 1, 'NewHospitalized': 49, 'NewDeaths': 0, 'Confirmed': 322, 'Recovered': 43, 'Hospitalized': 278, 'Deaths': 1}, {'Date': '03/21/2020', 'NewConfirmed': 89, 'NewRecovered': 1, 'NewHospitalized': 88, 'NewDeaths': 0, 'Confirmed': 411, 'Recovered': 44, 'Hospitalized': 366, 'Deaths': 1}, {'Date': '03/22/2020', 'NewConfirmed': 188, 'NewRecovered': 1, 'NewHospitalized': 187, 'NewDeaths': 0, 'Confirmed': 599, 'Recovered': 45, 'Hospitalized': 553, 'Deaths': 1}, {'Date': '03/23/2020', 'NewConfirmed': 122, 'NewRecovered': 7, 'NewHospitalized': 115, 'NewDeaths': 0, 'Confirmed': 721, 'Recovered': 52, 'Hospitalized': 668, 'Deaths': 1}, {'Date': '03/24/2020', 'NewConfirmed': 106, 'NewRecovered': 5, 'NewHospitalized': 98, 'NewDeaths': 3, 'Confirmed': 827, 'Recovered': 57, 'Hospitalized': 766, 'Deaths': 4}, {'Date': '03/25/2020', 'NewConfirmed': 107, 'NewRecovered': 13, 'NewHospitalized': 94, 'NewDeaths': 0, 'Confirmed': 934, 'Recovered': 70, 'Hospitalized': 860, 'Deaths': 4}, {'Date': '03/26/2020', 'NewConfirmed': 111, 'NewRecovered': 18, 'NewHospitalized': 93, 'NewDeaths': 0, 'Confirmed': 1045, 'Recovered': 88, 'Hospitalized': 953, 'Deaths': 4}, {'Date': '03/27/2020', 'NewConfirmed': 91, 'NewRecovered': 9, 'NewHospitalized': 81, 'NewDeaths': 1, 'Confirmed': 1136, 'Recovered': 97, 'Hospitalized': 1034, 'Deaths': 5}, {'Date': '03/28/2020', 'NewConfirmed': 109, 'NewRecovered': 3, 'NewHospitalized': 105, 'NewDeaths': 1, 'Confirmed': 1245, 'Recovered': 100, 'Hospitalized': 1139, 'Deaths': 6}, {'Date': '03/29/2020', 'NewConfirmed': 143, 'NewRecovered': 11, 'NewHospitalized': 131, 'NewDeaths': 1, 'Confirmed': 1388, 'Recovered': 111, 'Hospitalized': 1270, 'Deaths': 7}, {'Date': '03/30/2020', 'NewConfirmed': 136, 'NewRecovered': 16, 'NewHospitalized': 118, 'NewDeaths': 2, 'Confirmed': 1524, 'Recovered': 127, 'Hospitalized': 1388, 'Deaths': 9}, {'Date': '03/31/2020', 'NewConfirmed': 127, 'NewRecovered': 215, 'NewHospitalized': -89, 'NewDeaths': 1, 'Confirmed': 1651, 'Recovered': 342, 'Hospitalized': 1299, 'Deaths': 10}, {'Date': '04/01/2020', 'NewConfirmed': 120, 'NewRecovered': 74, 'NewHospitalized': 44, 'NewDeaths': 2, 'Confirmed': 1771, 'Recovered': 416, 'Hospitalized': 1343, 'Deaths': 12}, {'Date': '04/02/2020', 'NewConfirmed': 104, 'NewRecovered': 89, 'NewHospitalized': 12, 'NewDeaths': 3, 'Confirmed': 1875, 'Recovered': 505, 'Hospitalized': 1355, 'Deaths': 15}, {'Date': '04/03/2020', 'NewConfirmed': 103, 'NewRecovered': 76, 'NewHospitalized': 23, 'NewDeaths': 4, 'Confirmed': 1978, 'Recovered': 581, 'Hospitalized': 1378, 'Deaths': 19}, {'Date': '04/04/2020', 'NewConfirmed': 89, 'NewRecovered': 31, 'NewHospitalized': 57, 'NewDeaths': 1, 'Confirmed': 2067, 'Recovered': 612, 'Hospitalized': 1435, 'Deaths': 20}, {'Date': '04/05/2020', 'NewConfirmed': 102, 'NewRecovered': 62, 'NewHospitalized': 37, 'NewDeaths': 3, 'Confirmed': 2169, 'Recovered': 674, 'Hospitalized': 1472, 'Deaths': 23}, {'Date': '04/06/2020', 'NewConfirmed': 51, 'NewRecovered': 119, 'NewHospitalized': -71, 'NewDeaths': 3, 'Confirmed': 2220, 'Recovered': 793, 'Hospitalized': 1401, 'Deaths': 26}, {'Date': '04/07/2020', 'NewConfirmed': 38, 'NewRecovered': 31, 'NewHospitalized': 6, 'NewDeaths': 1, 'Confirmed': 2258, 'Recovered': 824, 'Hospitalized': 1407, 'Deaths': 27}, {'Date': '04/08/2020', 'NewConfirmed': 111, 'NewRecovered': 64, 'NewHospitalized': 44, 'NewDeaths': 3, 'Confirmed': 2369, 'Recovered': 888, 'Hospitalized': 1451, 'Deaths': 30}, {'Date': '04/09/2020', 'NewConfirmed': 54, 'NewRecovered': 52, 'NewHospitalized': 0, 'NewDeaths': 2, 'Confirmed': 2423, 'Recovered': 940, 'Hospitalized': 1451, 'Deaths': 32}, {'Date': '04/10/2020', 'NewConfirmed': 50, 'NewRecovered': 73, 'NewHospitalized': -24, 'NewDeaths': 1, 'Confirmed': 2473, 'Recovered': 1013, 'Hospitalized': 1427, 'Deaths': 33}, {'Date': '04/11/2020', 'NewConfirmed': 45, 'NewRecovered': 122, 'NewHospitalized': -79, 'NewDeaths': 2, 'Confirmed': 2518, 'Recovered': 1135, 'Hospitalized': 1348, 'Deaths': 35}, {'Date': '04/12/2020', 'NewConfirmed': 33, 'NewRecovered': 83, 'NewHospitalized': -53, 'NewDeaths': 3, 'Confirmed': 2551, 'Recovered': 1218, 'Hospitalized': 1295, 'Deaths': 38}]\n"
          ],
          "name": "stdout"
        }
      ]
    },
    {
      "cell_type": "code",
      "metadata": {
        "id": "znCeTYqGChPK",
        "colab_type": "code",
        "outputId": "9075c01b-46a6-40e8-dd1e-59eeac47d363",
        "colab": {
          "base_uri": "https://localhost:8080/",
          "height": 260
        }
      },
      "source": [
        "import pandas as pd\n",
        "\n",
        "# keep the data in Pandas dataframe for easily usage\n",
        "data = pd.DataFrame(json_data)\n",
        "print(data)"
      ],
      "execution_count": 4,
      "outputs": [
        {
          "output_type": "stream",
          "text": [
            "           Date  NewConfirmed  NewRecovered  ...  Recovered  Hospitalized  Deaths\n",
            "0    01/01/2020             0             0  ...          0             0       0\n",
            "1    01/02/2020             0             0  ...          0             0       0\n",
            "2    01/03/2020             0             0  ...          0             0       0\n",
            "3    01/04/2020             0             0  ...          0             0       0\n",
            "4    01/05/2020             0             0  ...          0             0       0\n",
            "..          ...           ...           ...  ...        ...           ...     ...\n",
            "98   04/08/2020           111            64  ...        888          1451      30\n",
            "99   04/09/2020            54            52  ...        940          1451      32\n",
            "100  04/10/2020            50            73  ...       1013          1427      33\n",
            "101  04/11/2020            45           122  ...       1135          1348      35\n",
            "102  04/12/2020            33            83  ...       1218          1295      38\n",
            "\n",
            "[103 rows x 9 columns]\n"
          ],
          "name": "stdout"
        }
      ]
    },
    {
      "cell_type": "markdown",
      "metadata": {
        "id": "XM29r1PYO7UK",
        "colab_type": "text"
      },
      "source": [
        "# Data Visualization\n",
        "Let's plot some graphs"
      ]
    },
    {
      "cell_type": "code",
      "metadata": {
        "id": "JMKrrGdzPDK4",
        "colab_type": "code",
        "outputId": "32aad3a4-7586-42d8-85ba-9e2f26361c50",
        "colab": {
          "base_uri": "https://localhost:8080/",
          "height": 295
        }
      },
      "source": [
        "import matplotlib.pyplot as plt\n",
        "\n",
        "# get only desired columns for plotting\n",
        "# y-axis\n",
        "recovered = data['Recovered']\n",
        "hospitalized = data['Hospitalized']\n",
        "deaths = data['Deaths']\n",
        "\n",
        "# x-axis\n",
        "date = data['Date']\n",
        "\n",
        "# let's plot a lineplot\n",
        "plt.figure()\n",
        "\n",
        "plt.title('COVID19-th-stats')\n",
        "plt.xlabel('date')\n",
        "plt.ylabel('number of people')\n",
        "\n",
        "plt.plot(date,hospitalized,label='hospitalized')\n",
        "plt.plot(date,recovered,label='recovered')\n",
        "plt.plot(date,deaths,label='deaths')\n",
        "plt.legend()\n",
        "\n",
        "plt.show()"
      ],
      "execution_count": 5,
      "outputs": [
        {
          "output_type": "display_data",
          "data": {
            "image/png": "[encoded data removed]",
            "text/plain": [
              "<Figure size 432x288 with 1 Axes>"
            ]
          },
          "metadata": {
            "tags": [],
            "needs_background": "light"
          }
        }
      ]
    },
    {
      "cell_type": "markdown",
      "metadata": {
        "id": "gRdBt15va4WK",
        "colab_type": "text"
      },
      "source": [
        "We'll see that after 100 infections the rate was increasing so fast. But for now it's slower. There're also many recovered patients."
      ]
    },
    {
      "cell_type": "markdown",
      "metadata": {
        "id": "p3TXWoDsbuJd",
        "colab_type": "text"
      },
      "source": [
        "# Prediction\n",
        "let's create a prediction model. Of course, this problem is a regression problem. I'm going to implement it using Keras."
      ]
    },
    {
      "cell_type": "code",
      "metadata": {
        "id": "qz9VJL3Tb9Nz",
        "colab_type": "code",
        "outputId": "98c0552c-51fb-4ac0-9df6-c033111f989b",
        "colab": {
          "base_uri": "https://localhost:8080/",
          "height": 312
        }
      },
      "source": [
        "# I'm going to predict the number of hospitalized patients\n",
        "import numpy as np\n",
        "from sklearn.preprocessing import MinMaxScaler\n",
        "from keras.models import Sequential\n",
        "from keras.layers import LSTM,Dense\n",
        "from keras.optimizers import Adam\n",
        "from keras.utils.vis_utils import plot_model\n",
        "\n",
        "seq = np.array(data['Hospitalized'])\n",
        " \n",
        "# split a univariate sequence into samples\n",
        "def split_sequence(sequence, n_steps):\n",
        "\tX, y = list(), list()\n",
        "\tfor i in range(len(sequence)):\n",
        "\t\t# find the end of this pattern\n",
        "\t\tend_ix = i + n_steps\n",
        "\t\t# check if we are beyond the sequence\n",
        "\t\tif end_ix > len(sequence)-1:\n",
        "\t\t\tbreak\n",
        "\t\t# gather input and output parts of the pattern\n",
        "\t\tseq_x, seq_y = sequence[i:end_ix], sequence[end_ix]\n",
        "\t\tX.append(seq_x)\n",
        "\t\ty.append(seq_y)\n",
        "\treturn array(X), array(y)\n",
        " \n",
        "# choose a number of time steps\n",
        "n_steps = 5\n",
        "\n",
        "# split into samples\n",
        "X, y = split_sequence(seq, n_steps)\n",
        "\n",
        "# reshape from [samples, timesteps] into [samples, timesteps, features]\n",
        "n_features = 1\n",
        "X = X.reshape((X.shape[0], X.shape[1], n_features))\n",
        "\n",
        "# define model\n",
        "model = Sequential()\n",
        "model.add(LSTM(50, activation='relu', input_shape=(n_steps, n_features)))\n",
        "model.add(Dense(1))\n",
        "model.compile(Adam(0.001), loss='mse')\n",
        "\n",
        "plot_model(model, to_file='model_plot.png', show_shapes=True, show_layer_names=True)"
      ],
      "execution_count": 28,
      "outputs": [
        {
          "output_type": "execute_result",
          "data": {
            "image/png": "[encoded data removed]",
            "text/plain": [
              "<IPython.core.display.Image object>"
            ]
          },
          "metadata": {
            "tags": []
          },
          "execution_count": 28
        }
      ]
    },
    {
      "cell_type": "code",
      "metadata": {
        "id": "K5qviIuFjv7N",
        "colab_type": "code",
        "colab": {
          "base_uri": "https://localhost:8080/",
          "height": 1000
        },
        "outputId": "099082fd-89ac-445a-a218-fe5969ce7d16"
      },
      "source": [
        "# let's train\n",
        "model.fit(X,y,epochs=200)"
      ],
      "execution_count": 36,
      "outputs": [
        {
          "output_type": "stream",
          "text": [
            "Epoch 1/200\n",
            "98/98 [==============================] - 0s 3ms/step - loss: 277941.7981\n",
            "Epoch 2/200\n",
            "98/98 [==============================] - 0s 216us/step - loss: 265602.4949\n",
            "Epoch 3/200\n",
            "98/98 [==============================] - 0s 221us/step - loss: 256425.2723\n",
            "Epoch 4/200\n",
            "98/98 [==============================] - 0s 209us/step - loss: 242507.5754\n",
            "Epoch 5/200\n",
            "98/98 [==============================] - 0s 208us/step - loss: 224012.9923\n",
            "Epoch 6/200\n",
            "98/98 [==============================] - 0s 230us/step - loss: 184064.4200\n",
            "Epoch 7/200\n",
            "98/98 [==============================] - 0s 243us/step - loss: 83492.6821\n",
            "Epoch 8/200\n",
            "98/98 [==============================] - 0s 204us/step - loss: 24056.2321\n",
            "Epoch 9/200\n",
            "98/98 [==============================] - 0s 211us/step - loss: 23665.3020\n",
            "Epoch 10/200\n",
            "98/98 [==============================] - 0s 208us/step - loss: 11939.1114\n",
            "Epoch 11/200\n",
            "98/98 [==============================] - 0s 233us/step - loss: 10859.7464\n",
            "Epoch 12/200\n",
            "98/98 [==============================] - 0s 217us/step - loss: 12877.2213\n",
            "Epoch 13/200\n",
            "98/98 [==============================] - 0s 215us/step - loss: 9305.5826\n",
            "Epoch 14/200\n",
            "98/98 [==============================] - 0s 219us/step - loss: 8195.2341\n",
            "Epoch 15/200\n",
            "98/98 [==============================] - 0s 231us/step - loss: 10476.4174\n",
            "Epoch 16/200\n",
            "98/98 [==============================] - 0s 223us/step - loss: 8897.7311\n",
            "Epoch 17/200\n",
            "98/98 [==============================] - 0s 234us/step - loss: 6975.7668\n",
            "Epoch 18/200\n",
            "98/98 [==============================] - 0s 209us/step - loss: 6643.1473\n",
            "Epoch 19/200\n",
            "98/98 [==============================] - 0s 217us/step - loss: 7190.4545\n",
            "Epoch 20/200\n",
            "98/98 [==============================] - 0s 249us/step - loss: 7634.4539\n",
            "Epoch 21/200\n",
            "98/98 [==============================] - 0s 209us/step - loss: 6067.7288\n",
            "Epoch 22/200\n",
            "98/98 [==============================] - 0s 230us/step - loss: 6073.0128\n",
            "Epoch 23/200\n",
            "98/98 [==============================] - 0s 205us/step - loss: 5708.1955\n",
            "Epoch 24/200\n",
            "98/98 [==============================] - 0s 210us/step - loss: 5204.7498\n",
            "Epoch 25/200\n",
            "98/98 [==============================] - 0s 245us/step - loss: 4805.6352\n",
            "Epoch 26/200\n",
            "98/98 [==============================] - 0s 266us/step - loss: 5457.6031\n",
            "Epoch 27/200\n",
            "98/98 [==============================] - 0s 215us/step - loss: 5225.6345\n",
            "Epoch 28/200\n",
            "98/98 [==============================] - 0s 207us/step - loss: 5241.9289\n",
            "Epoch 29/200\n",
            "98/98 [==============================] - 0s 237us/step - loss: 4019.1514\n",
            "Epoch 30/200\n",
            "98/98 [==============================] - 0s 208us/step - loss: 4180.8588\n",
            "Epoch 31/200\n",
            "98/98 [==============================] - 0s 227us/step - loss: 3708.9657\n",
            "Epoch 32/200\n",
            "98/98 [==============================] - 0s 204us/step - loss: 3566.6063\n",
            "Epoch 33/200\n",
            "98/98 [==============================] - 0s 241us/step - loss: 3426.6287\n",
            "Epoch 34/200\n",
            "98/98 [==============================] - 0s 213us/step - loss: 3850.5755\n",
            "Epoch 35/200\n",
            "98/98 [==============================] - 0s 243us/step - loss: 3637.7835\n",
            "Epoch 36/200\n",
            "98/98 [==============================] - 0s 230us/step - loss: 3358.9912\n",
            "Epoch 37/200\n",
            "98/98 [==============================] - 0s 242us/step - loss: 3216.1035\n",
            "Epoch 38/200\n",
            "98/98 [==============================] - 0s 234us/step - loss: 4705.7336\n",
            "Epoch 39/200\n",
            "98/98 [==============================] - 0s 229us/step - loss: 6644.7006\n",
            "Epoch 40/200\n",
            "98/98 [==============================] - 0s 232us/step - loss: 3286.3882\n",
            "Epoch 41/200\n",
            "98/98 [==============================] - 0s 220us/step - loss: 2384.3263\n",
            "Epoch 42/200\n",
            "98/98 [==============================] - 0s 216us/step - loss: 2821.6039\n",
            "Epoch 43/200\n",
            "98/98 [==============================] - 0s 228us/step - loss: 2107.0133\n",
            "Epoch 44/200\n",
            "98/98 [==============================] - 0s 217us/step - loss: 1796.1800\n",
            "Epoch 45/200\n",
            "98/98 [==============================] - 0s 219us/step - loss: 3110.7036\n",
            "Epoch 46/200\n",
            "98/98 [==============================] - 0s 226us/step - loss: 2283.1531\n",
            "Epoch 47/200\n",
            "98/98 [==============================] - 0s 253us/step - loss: 1858.6045\n",
            "Epoch 48/200\n",
            "98/98 [==============================] - 0s 211us/step - loss: 7973.8534\n",
            "Epoch 49/200\n",
            "98/98 [==============================] - 0s 222us/step - loss: 10037.5103\n",
            "Epoch 50/200\n",
            "98/98 [==============================] - 0s 217us/step - loss: 2518.2226\n",
            "Epoch 51/200\n",
            "98/98 [==============================] - 0s 214us/step - loss: 7671.6137\n",
            "Epoch 52/200\n",
            "98/98 [==============================] - 0s 228us/step - loss: 3928.3270\n",
            "Epoch 53/200\n",
            "98/98 [==============================] - 0s 217us/step - loss: 3330.1565\n",
            "Epoch 54/200\n",
            "98/98 [==============================] - 0s 215us/step - loss: 3647.0374\n",
            "Epoch 55/200\n",
            "98/98 [==============================] - 0s 245us/step - loss: 2555.0958\n",
            "Epoch 56/200\n",
            "98/98 [==============================] - 0s 240us/step - loss: 2830.9346\n",
            "Epoch 57/200\n",
            "98/98 [==============================] - 0s 211us/step - loss: 2463.8841\n",
            "Epoch 58/200\n",
            "98/98 [==============================] - 0s 211us/step - loss: 2768.0474\n",
            "Epoch 59/200\n",
            "98/98 [==============================] - 0s 213us/step - loss: 2466.5258\n",
            "Epoch 60/200\n",
            "98/98 [==============================] - 0s 218us/step - loss: 3664.4513\n",
            "Epoch 61/200\n",
            "98/98 [==============================] - 0s 210us/step - loss: 2010.5060\n",
            "Epoch 62/200\n",
            "98/98 [==============================] - 0s 209us/step - loss: 2646.1000\n",
            "Epoch 63/200\n",
            "98/98 [==============================] - 0s 207us/step - loss: 2705.3260\n",
            "Epoch 64/200\n",
            "98/98 [==============================] - 0s 217us/step - loss: 2004.2904\n",
            "Epoch 65/200\n",
            "98/98 [==============================] - 0s 246us/step - loss: 1641.2916\n",
            "Epoch 66/200\n",
            "98/98 [==============================] - 0s 235us/step - loss: 1577.5597\n",
            "Epoch 67/200\n",
            "98/98 [==============================] - 0s 237us/step - loss: 1637.6904\n",
            "Epoch 68/200\n",
            "98/98 [==============================] - 0s 217us/step - loss: 2721.7028\n",
            "Epoch 69/200\n",
            "98/98 [==============================] - 0s 227us/step - loss: 2629.9759\n",
            "Epoch 70/200\n",
            "98/98 [==============================] - 0s 279us/step - loss: 3578.3364\n",
            "Epoch 71/200\n",
            "98/98 [==============================] - 0s 221us/step - loss: 3804.0875\n",
            "Epoch 72/200\n",
            "98/98 [==============================] - 0s 232us/step - loss: 3580.3259\n",
            "Epoch 73/200\n",
            "98/98 [==============================] - 0s 212us/step - loss: 2860.1690\n",
            "Epoch 74/200\n",
            "98/98 [==============================] - 0s 215us/step - loss: 3062.7170\n",
            "Epoch 75/200\n",
            "98/98 [==============================] - 0s 214us/step - loss: 2995.7590\n",
            "Epoch 76/200\n",
            "98/98 [==============================] - 0s 226us/step - loss: 2945.6667\n",
            "Epoch 77/200\n",
            "98/98 [==============================] - 0s 217us/step - loss: 2585.8572\n",
            "Epoch 78/200\n",
            "98/98 [==============================] - 0s 219us/step - loss: 2795.6496\n",
            "Epoch 79/200\n",
            "98/98 [==============================] - 0s 231us/step - loss: 2787.7653\n",
            "Epoch 80/200\n",
            "98/98 [==============================] - 0s 215us/step - loss: 2727.0236\n",
            "Epoch 81/200\n",
            "98/98 [==============================] - 0s 216us/step - loss: 2183.6794\n",
            "Epoch 82/200\n",
            "98/98 [==============================] - 0s 235us/step - loss: 7051.2064\n",
            "Epoch 83/200\n",
            "98/98 [==============================] - 0s 217us/step - loss: 4729.4666\n",
            "Epoch 84/200\n",
            "98/98 [==============================] - 0s 223us/step - loss: 12101.6628\n",
            "Epoch 85/200\n",
            "98/98 [==============================] - 0s 221us/step - loss: 4075.7926\n",
            "Epoch 86/200\n",
            "98/98 [==============================] - 0s 223us/step - loss: 5522.8429\n",
            "Epoch 87/200\n",
            "98/98 [==============================] - 0s 212us/step - loss: 2758.0586\n",
            "Epoch 88/200\n",
            "98/98 [==============================] - 0s 210us/step - loss: 2044.6538\n",
            "Epoch 89/200\n",
            "98/98 [==============================] - 0s 252us/step - loss: 2223.5508\n",
            "Epoch 90/200\n",
            "98/98 [==============================] - 0s 260us/step - loss: 2019.3645\n",
            "Epoch 91/200\n",
            "98/98 [==============================] - 0s 215us/step - loss: 1948.9883\n",
            "Epoch 92/200\n",
            "98/98 [==============================] - 0s 229us/step - loss: 1855.9468\n",
            "Epoch 93/200\n",
            "98/98 [==============================] - 0s 227us/step - loss: 1679.0478\n",
            "Epoch 94/200\n",
            "98/98 [==============================] - 0s 265us/step - loss: 1580.2315\n",
            "Epoch 95/200\n",
            "98/98 [==============================] - 0s 241us/step - loss: 1485.2837\n",
            "Epoch 96/200\n",
            "98/98 [==============================] - 0s 236us/step - loss: 1412.0873\n",
            "Epoch 97/200\n",
            "98/98 [==============================] - 0s 243us/step - loss: 1359.5451\n",
            "Epoch 98/200\n",
            "98/98 [==============================] - 0s 236us/step - loss: 1369.0186\n",
            "Epoch 99/200\n",
            "98/98 [==============================] - 0s 229us/step - loss: 1404.1528\n",
            "Epoch 100/200\n",
            "98/98 [==============================] - 0s 235us/step - loss: 1380.8864\n",
            "Epoch 101/200\n",
            "98/98 [==============================] - 0s 281us/step - loss: 1276.0972\n",
            "Epoch 102/200\n",
            "98/98 [==============================] - 0s 237us/step - loss: 1180.2353\n",
            "Epoch 103/200\n",
            "98/98 [==============================] - 0s 269us/step - loss: 1508.4251\n",
            "Epoch 104/200\n",
            "98/98 [==============================] - 0s 233us/step - loss: 1421.9547\n",
            "Epoch 105/200\n",
            "98/98 [==============================] - 0s 228us/step - loss: 1316.0818\n",
            "Epoch 106/200\n",
            "98/98 [==============================] - 0s 225us/step - loss: 1286.5336\n",
            "Epoch 107/200\n",
            "98/98 [==============================] - 0s 244us/step - loss: 1302.2166\n",
            "Epoch 108/200\n",
            "98/98 [==============================] - 0s 246us/step - loss: 1306.6722\n",
            "Epoch 109/200\n",
            "98/98 [==============================] - 0s 233us/step - loss: 1281.3385\n",
            "Epoch 110/200\n",
            "98/98 [==============================] - 0s 260us/step - loss: 1277.8308\n",
            "Epoch 111/200\n",
            "98/98 [==============================] - 0s 251us/step - loss: 1294.3602\n",
            "Epoch 112/200\n",
            "98/98 [==============================] - 0s 317us/step - loss: 1295.2560\n",
            "Epoch 113/200\n",
            "98/98 [==============================] - 0s 236us/step - loss: 1293.2131\n",
            "Epoch 114/200\n",
            "98/98 [==============================] - 0s 236us/step - loss: 1283.7660\n",
            "Epoch 115/200\n",
            "98/98 [==============================] - 0s 229us/step - loss: 1279.4883\n",
            "Epoch 116/200\n",
            "98/98 [==============================] - 0s 242us/step - loss: 1244.2636\n",
            "Epoch 117/200\n",
            "98/98 [==============================] - 0s 230us/step - loss: 1289.5559\n",
            "Epoch 118/200\n",
            "98/98 [==============================] - 0s 239us/step - loss: 1262.3546\n",
            "Epoch 119/200\n",
            "98/98 [==============================] - 0s 211us/step - loss: 1322.0141\n",
            "Epoch 120/200\n",
            "98/98 [==============================] - 0s 242us/step - loss: 1598.8677\n",
            "Epoch 121/200\n",
            "98/98 [==============================] - 0s 222us/step - loss: 2831.6757\n",
            "Epoch 122/200\n",
            "98/98 [==============================] - 0s 217us/step - loss: 2411.7570\n",
            "Epoch 123/200\n",
            "98/98 [==============================] - 0s 212us/step - loss: 1366.7352\n",
            "Epoch 124/200\n",
            "98/98 [==============================] - 0s 227us/step - loss: 1227.8959\n",
            "Epoch 125/200\n",
            "98/98 [==============================] - 0s 216us/step - loss: 1612.3026\n",
            "Epoch 126/200\n",
            "98/98 [==============================] - 0s 241us/step - loss: 1477.3554\n",
            "Epoch 127/200\n",
            "98/98 [==============================] - 0s 235us/step - loss: 1258.4226\n",
            "Epoch 128/200\n",
            "98/98 [==============================] - 0s 223us/step - loss: 1453.4313\n",
            "Epoch 129/200\n",
            "98/98 [==============================] - 0s 255us/step - loss: 1206.1948\n",
            "Epoch 130/200\n",
            "98/98 [==============================] - 0s 207us/step - loss: 1344.1185\n",
            "Epoch 131/200\n",
            "98/98 [==============================] - 0s 211us/step - loss: 1350.4873\n",
            "Epoch 132/200\n",
            "98/98 [==============================] - 0s 211us/step - loss: 1218.0172\n",
            "Epoch 133/200\n",
            "98/98 [==============================] - 0s 215us/step - loss: 1241.5534\n",
            "Epoch 134/200\n",
            "98/98 [==============================] - 0s 237us/step - loss: 1202.6477\n",
            "Epoch 135/200\n",
            "98/98 [==============================] - 0s 239us/step - loss: 1275.3517\n",
            "Epoch 136/200\n",
            "98/98 [==============================] - 0s 259us/step - loss: 1223.5175\n",
            "Epoch 137/200\n",
            "98/98 [==============================] - 0s 219us/step - loss: 1182.5283\n",
            "Epoch 138/200\n",
            "98/98 [==============================] - 0s 243us/step - loss: 1196.0147\n",
            "Epoch 139/200\n",
            "98/98 [==============================] - 0s 221us/step - loss: 1171.3094\n",
            "Epoch 140/200\n",
            "98/98 [==============================] - 0s 216us/step - loss: 1087.8975\n",
            "Epoch 141/200\n",
            "98/98 [==============================] - 0s 223us/step - loss: 1295.2986\n",
            "Epoch 142/200\n",
            "98/98 [==============================] - 0s 230us/step - loss: 1307.2259\n",
            "Epoch 143/200\n",
            "98/98 [==============================] - 0s 256us/step - loss: 1255.4280\n",
            "Epoch 144/200\n",
            "98/98 [==============================] - 0s 259us/step - loss: 1210.7313\n",
            "Epoch 145/200\n",
            "98/98 [==============================] - 0s 230us/step - loss: 1474.1123\n",
            "Epoch 146/200\n",
            "98/98 [==============================] - 0s 223us/step - loss: 1484.0901\n",
            "Epoch 147/200\n",
            "98/98 [==============================] - 0s 220us/step - loss: 1625.9334\n",
            "Epoch 148/200\n",
            "98/98 [==============================] - 0s 216us/step - loss: 1658.4903\n",
            "Epoch 149/200\n",
            "98/98 [==============================] - 0s 228us/step - loss: 1731.4513\n",
            "Epoch 150/200\n",
            "98/98 [==============================] - 0s 246us/step - loss: 1603.7564\n",
            "Epoch 151/200\n",
            "98/98 [==============================] - 0s 216us/step - loss: 1462.4744\n",
            "Epoch 152/200\n",
            "98/98 [==============================] - 0s 256us/step - loss: 3095.9199\n",
            "Epoch 153/200\n",
            "98/98 [==============================] - 0s 220us/step - loss: 1740.6186\n",
            "Epoch 154/200\n",
            "98/98 [==============================] - 0s 225us/step - loss: 1864.9975\n",
            "Epoch 155/200\n",
            "98/98 [==============================] - 0s 278us/step - loss: 1883.6668\n",
            "Epoch 156/200\n",
            "98/98 [==============================] - 0s 218us/step - loss: 1847.2441\n",
            "Epoch 157/200\n",
            "98/98 [==============================] - 0s 231us/step - loss: 1816.8536\n",
            "Epoch 158/200\n",
            "98/98 [==============================] - 0s 230us/step - loss: 1807.6055\n",
            "Epoch 159/200\n",
            "98/98 [==============================] - 0s 217us/step - loss: 1749.5834\n",
            "Epoch 160/200\n",
            "98/98 [==============================] - 0s 214us/step - loss: 1737.1884\n",
            "Epoch 161/200\n",
            "98/98 [==============================] - 0s 215us/step - loss: 1695.0018\n",
            "Epoch 162/200\n",
            "98/98 [==============================] - 0s 223us/step - loss: 1672.8454\n",
            "Epoch 163/200\n",
            "98/98 [==============================] - 0s 221us/step - loss: 1629.6471\n",
            "Epoch 164/200\n",
            "98/98 [==============================] - 0s 216us/step - loss: 1570.3383\n",
            "Epoch 165/200\n",
            "98/98 [==============================] - 0s 213us/step - loss: 1848.0065\n",
            "Epoch 166/200\n",
            "98/98 [==============================] - 0s 225us/step - loss: 1745.3145\n",
            "Epoch 167/200\n",
            "98/98 [==============================] - 0s 233us/step - loss: 1536.8899\n",
            "Epoch 168/200\n",
            "98/98 [==============================] - 0s 250us/step - loss: 1515.9567\n",
            "Epoch 169/200\n",
            "98/98 [==============================] - 0s 236us/step - loss: 1466.1556\n",
            "Epoch 170/200\n",
            "98/98 [==============================] - 0s 223us/step - loss: 1435.1568\n",
            "Epoch 171/200\n",
            "98/98 [==============================] - 0s 246us/step - loss: 1417.8994\n",
            "Epoch 172/200\n",
            "98/98 [==============================] - 0s 224us/step - loss: 1388.8543\n",
            "Epoch 173/200\n",
            "98/98 [==============================] - 0s 237us/step - loss: 1365.5027\n",
            "Epoch 174/200\n",
            "98/98 [==============================] - 0s 218us/step - loss: 1342.1112\n",
            "Epoch 175/200\n",
            "98/98 [==============================] - 0s 215us/step - loss: 1325.1700\n",
            "Epoch 176/200\n",
            "98/98 [==============================] - 0s 215us/step - loss: 1496.8970\n",
            "Epoch 177/200\n",
            "98/98 [==============================] - 0s 216us/step - loss: 1925.1747\n",
            "Epoch 178/200\n",
            "98/98 [==============================] - 0s 211us/step - loss: 1471.4788\n",
            "Epoch 179/200\n",
            "98/98 [==============================] - 0s 221us/step - loss: 1400.1028\n",
            "Epoch 180/200\n",
            "98/98 [==============================] - 0s 225us/step - loss: 1657.2268\n",
            "Epoch 181/200\n",
            "98/98 [==============================] - 0s 200us/step - loss: 1559.6212\n",
            "Epoch 182/200\n",
            "98/98 [==============================] - 0s 231us/step - loss: 1243.4770\n",
            "Epoch 183/200\n",
            "98/98 [==============================] - 0s 235us/step - loss: 1205.9404\n",
            "Epoch 184/200\n",
            "98/98 [==============================] - 0s 215us/step - loss: 1215.5346\n",
            "Epoch 185/200\n",
            "98/98 [==============================] - 0s 219us/step - loss: 1089.2131\n",
            "Epoch 186/200\n",
            "98/98 [==============================] - 0s 226us/step - loss: 2580.5381\n",
            "Epoch 187/200\n",
            "98/98 [==============================] - 0s 231us/step - loss: 2630.3521\n",
            "Epoch 188/200\n",
            "98/98 [==============================] - 0s 220us/step - loss: 1427.3122\n",
            "Epoch 189/200\n",
            "98/98 [==============================] - 0s 211us/step - loss: 2000.7418\n",
            "Epoch 190/200\n",
            "98/98 [==============================] - 0s 220us/step - loss: 1716.2163\n",
            "Epoch 191/200\n",
            "98/98 [==============================] - 0s 249us/step - loss: 1962.4608\n",
            "Epoch 192/200\n",
            "98/98 [==============================] - 0s 250us/step - loss: 1431.0965\n",
            "Epoch 193/200\n",
            "98/98 [==============================] - 0s 233us/step - loss: 1989.9997\n",
            "Epoch 194/200\n",
            "98/98 [==============================] - 0s 242us/step - loss: 3599.5894\n",
            "Epoch 195/200\n",
            "98/98 [==============================] - 0s 254us/step - loss: 3416.0188\n",
            "Epoch 196/200\n",
            "98/98 [==============================] - 0s 217us/step - loss: 1651.7534\n",
            "Epoch 197/200\n",
            "98/98 [==============================] - 0s 225us/step - loss: 1500.4446\n",
            "Epoch 198/200\n",
            "98/98 [==============================] - 0s 226us/step - loss: 1144.7032\n",
            "Epoch 199/200\n",
            "98/98 [==============================] - 0s 317us/step - loss: 1925.2453\n",
            "Epoch 200/200\n",
            "98/98 [==============================] - 0s 237us/step - loss: 1548.3809\n"
          ],
          "name": "stdout"
        },
        {
          "output_type": "execute_result",
          "data": {
            "text/plain": [
              "<keras.callbacks.callbacks.History at 0x7f735d50d4a8>"
            ]
          },
          "metadata": {
            "tags": []
          },
          "execution_count": 36
        }
      ]
    },
    {
      "cell_type": "code",
      "metadata": {
        "id": "5EJDhyqvkhcF",
        "colab_type": "code",
        "colab": {
          "base_uri": "https://localhost:8080/",
          "height": 34
        },
        "outputId": "9db2f645-26c4-4883-e86e-b47ef886e366"
      },
      "source": [
        "# let's see how our model works\n",
        "def predict_next_week(model ,X_current):\n",
        "  X_pred_arr = []\n",
        "  X_current = X_current.tolist()\n",
        "\n",
        "  for i in range(7):\n",
        "    X_current_ready = array([X_current])\n",
        "    X_new = model.predict(X_current_ready)[0]\n",
        "    X_pred_arr.append(X_new.tolist()[0])\n",
        "    X_current.pop(0)\n",
        "    X_current.append(X_new.tolist())\n",
        "\n",
        "  return X_pred_arr\n",
        "\n",
        "X_next_week = predict_next_week(model,X[len(X)-1])\n",
        "print(X_next_week)"
      ],
      "execution_count": 73,
      "outputs": [
        {
          "output_type": "stream",
          "text": [
            "[1415.9693603515625, 1401.1119384765625, 1388.310546875, 1389.177734375, 1391.940185546875, 1390.5347900390625, 1389.7677001953125]\n"
          ],
          "name": "stdout"
        }
      ]
    },
    {
      "cell_type": "code",
      "metadata": {
        "id": "wKrJhLtrwrH6",
        "colab_type": "code",
        "colab": {
          "base_uri": "https://localhost:8080/",
          "height": 295
        },
        "outputId": "83131135-281b-49e4-ab69-cfb18022e794"
      },
      "source": [
        "# let's plot next week hospitalized prediction\n",
        "plt.figure()\n",
        "\n",
        "plt.title('Next Week hospitalized prediction')\n",
        "plt.xlabel('day')\n",
        "plt.ylabel('number of people')\n",
        "\n",
        "plt.plot([i for i in range(7)],X_next_week,label='hospitalized')\n",
        "\n",
        "plt.legend()\n",
        "\n",
        "plt.show()"
      ],
      "execution_count": 76,
      "outputs": [
        {
          "output_type": "display_data",
          "data": {
            "image/png": "[encoded data removed]",
            "text/plain": [
              "<Figure size 432x288 with 1 Axes>"
            ]
          },
          "metadata": {
            "tags": [],
            "needs_background": "light"
          }
        }
      ]
    }
  ]
}